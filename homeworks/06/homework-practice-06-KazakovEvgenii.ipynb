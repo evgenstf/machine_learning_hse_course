{
 "cells": [
  {
   "cell_type": "markdown",
   "metadata": {},
   "source": [
    "# Машинное обучение, ФКН ВШЭ\n",
    "\n",
    "## Практическое задание 6. Разложение ошибки на смещение и разброс\n",
    "\n",
    "### Общая информация\n",
    "Дата выдачи: 20.11.2018\n",
    "\n",
    "Мягкий дедлайн: 6:00MSK 27.11.2018\n",
    "\n",
    "Жесткий дедлайн: 23:59MSK 29.11.2018\n",
    "\n",
    "### Оценивание и штрафы\n",
    "Каждая из задач имеет определенную «стоимость» (указана в скобках около задачи). Максимально допустимая оценка за работу — 10 баллов.\n",
    "\n",
    "Сдавать задание после указанного срока сдачи нельзя. При выставлении неполного балла за задание в связи с наличием ошибок на усмотрение проверяющего предусмотрена возможность исправить работу на указанных в ответном письме условиях.\n",
    "\n",
    "Задание выполняется самостоятельно. «Похожие» решения считаются плагиатом и все задействованные студенты (в том числе те, у кого списали) не могут получить за него больше 0 баллов (подробнее о плагиате см. на странице курса). Если вы нашли решение какого-то из заданий (или его часть) в открытом источнике, необходимо указать ссылку на этот источник в отдельном блоке в конце вашей работы (скорее всего вы будете не единственным, кто это нашел, поэтому чтобы исключить подозрение в плагиате, необходима ссылка на источник).\n",
    "\n",
    "Неэффективная реализация кода может негативно отразиться на оценке.\n",
    "\n",
    "### Формат сдачи\n",
    "Задания сдаются через систему anytask. Посылка должна содержать:\n",
    "* Ноутбук homework-practice-06-Username.ipynb\n",
    "\n",
    "Username — ваша фамилия и имя на латинице именно в таком порядке\n",
    "\n",
    "### О задании\n",
    "\n",
    "В этом задании вам предстоит воспользоваться возможностями bootstraping для оценки смещения и разброса алгоритмов машинного обучения. Делать мы это будем на данных boston:"
   ]
  },
  {
   "cell_type": "code",
   "execution_count": 29,
   "metadata": {},
   "outputs": [],
   "source": [
    "import numpy as np\n",
    "import pandas as pd\n",
    "from matplotlib import pyplot as plt\n",
    "%matplotlib inline\n",
    "\n",
    "from sklearn.linear_model import LinearRegression\n",
    "from sklearn.tree import DecisionTreeRegressor\n",
    "from sklearn.ensemble import RandomForestRegressor, GradientBoostingRegressor\n"
   ]
  },
  {
   "cell_type": "code",
   "execution_count": 9,
   "metadata": {},
   "outputs": [],
   "source": [
    "from sklearn.datasets import load_boston"
   ]
  },
  {
   "cell_type": "code",
   "execution_count": 10,
   "metadata": {},
   "outputs": [],
   "source": [
    "boston = load_boston()"
   ]
  },
  {
   "cell_type": "code",
   "execution_count": 11,
   "metadata": {},
   "outputs": [],
   "source": [
    "x_data = boston[\"data\"]\n",
    "y_data = boston[\"target\"]"
   ]
  },
  {
   "cell_type": "code",
   "execution_count": 12,
   "metadata": {},
   "outputs": [
    {
     "data": {
      "text/plain": [
       "((506, 13), (506,))"
      ]
     },
     "execution_count": 12,
     "metadata": {},
     "output_type": "execute_result"
    }
   ],
   "source": [
    "x_data.shape, y_data.shape"
   ]
  },
  {
   "cell_type": "markdown",
   "metadata": {},
   "source": [
    "### Вычисление bias и variance с помощью бутстрапа\n",
    "На лекции была выведено следующая формула, показывающая, как можно представить ошибку алгоритма регрессии в виде суммы трех компонент:\n",
    "$$\n",
    "L(\\mu) = \n",
    "    \\mathbb{E}_{x, y}\\bigl[\\mathbb{E}_{X}\\bigl[ (y - \\mu(X)(x))^2 \\bigr]\\bigr] = \n",
    "$$\n",
    "$$\n",
    "    \\underbrace{\\mathbb{E}_{x, y}\\bigl[(y - \\mathbb{E}[y|x] )^2\\bigr]}_{\\text{шум}} + \\underbrace{\\mathbb{E}_{x}\\bigl[(\\mathbb{E}_{X}[\\mu(X)(x)] - \\mathbb{E}[y|x] )^2\\bigr]}_{\\text{смещение}} +\n",
    "    \\underbrace{\\mathbb{E}_{x}\\bigl[\\mathbb{E}_{X}\\bigl[(\\mu(X)(x) - \\mathbb{E}_{X}[\\mu(X)(x)] )^2\\bigr]\\bigr]}_{\\text{разброс}},\n",
    "$$\n",
    "* $\\mu(X)$ --- алгоритм, обученный по выборке $X = \\{(x_1, y_1), \\dots (x_\\ell, y_\\ell)\\}$;\n",
    "* $\\mu(X)(x)$ --- ответ алгоритма, обученного по выборке $X$, на объекте $x$;\n",
    "* $\\mathbb{E}_{X}$ --- мат. ожидание по всем возможным выборкам;\n",
    "* $\\mathbb{E}_{X}[\\mu(X)(x)]$ --- \"средний\" ответ алгоритма, обученного по всем возможным выборкам $X$, на объекте $x$.\n",
    "    \n",
    "С помощью этой формулы мы можем анализировать свойства алгоритма обучения модели $\\mu$, если зададим вероятностную модель порождения пар $p(x, y)$.\n",
    "\n",
    "В реальных задачах мы, конечно же, не знаем распределение на парах объект - правильный ответ. Однако у нас есть набор семплов из этого распределения (обучающую выборка), и мы можем использовать его, чтобы оценивать математические ожидания. Для оценки мат. ожиданий по выборкам мы будем пользоваться бутстрэпом - методом генерации \"новых\" выборок из одной с помощью выбора объектов с возвращением. Разберем несколько шагов на пути к оценке смещения и разброса.\n",
    "\n",
    "#### Приближенное вычисление интегралов\n",
    "На занятиях мы разбирали примеры аналитического вычисления смещения и разброса нескольких алгоритмов обучения. Для большинства моделей данных и алгоритмов обучения аналитически рассчитать математические ожидания в формулах не удастся. Однако мат. ожидания можно оценивать приближенно. Чтобы оценить математическое ожидание $\\mathbb{E}_{\\bar z} f(\\bar z)$ функции от многомерной случайной величины $\\bar z = (z_1, \\dots, z_d)$, $\\bar z \\sim p(\\bar z)$, можно сгенерировать выборку из распределения $p(\\bar z)$ и усреднить значение функции на элементах этой выборки:\n",
    "$$\\mathbb{E}_{\\bar z} f(z) = \\int f(\\bar z) p(\\bar z) d \\bar z \\approx \\frac 1 m \\sum_{i=1}^m f(\\bar z_i), \\, \\bar z_i \\sim p(\\bar z), i = 1, \\dots, m.$$\n",
    "\n",
    "Например, оценим $\\mathbb{E}_z z^2,$ $z \\sim \\mathcal{N}(\\mu=5, \\sigma=3)$ (из теории вероятностей мы знаем, что\n",
    "$\\mathbb{E}_z z^2 = \\sigma^2 + \\mu^2 = 34$):"
   ]
  },
  {
   "cell_type": "code",
   "execution_count": 13,
   "metadata": {},
   "outputs": [
    {
     "data": {
      "text/plain": [
       "34.02062948557088"
      ]
     },
     "execution_count": 13,
     "metadata": {},
     "output_type": "execute_result"
    }
   ],
   "source": [
    "z = np.random.normal(loc=5, scale=3, size=1000)\n",
    "(z**2).mean()"
   ]
  },
  {
   "cell_type": "markdown",
   "metadata": {},
   "source": [
    "#### Оценивание $\\mathbb{E}_{x, y}$\n",
    "Оценить мат. ожидания по $x$ и по $x, y$, встречающиеся во всех трех компонентах разложения, несложно, потому что у нас есть выборка объектов из распределения данных $p(x, y)$:\n",
    "$$ \\mathbb{E}_{x} f(x) \\approx \\frac 1 N \\sum_{i=1}^N f(x_i), \\quad\n",
    "\\mathbb{E}_{x, y} f(x, y) \\approx \\frac 1 N \\sum_{i=1}^N f(x_i, y_i),$$\n",
    "где $N$ - число объектов в выборке, $\\{(x_i, y_i)\\}_{i=1}^N$ - сама выборка. \n",
    "\n",
    "#### Оценивание $\\mathbb{E}_X$ с помощью бутстрапа\n",
    "Чтобы оценить мат. ожидание по $X$, нам понадобится выборка из выборок:\n",
    "$$\\mathbb{E}_X f(X) \\approx \\frac 1 s \\sum_{j=1}^s f(X_j),$$\n",
    "где $X_j$ - $j$-я выборка. Чтобы их получить, мы можем воспользоваться бутстрапом - методом генерации выборок на основе выбора объектов с возвращением. Чтобы составить одну выборку, будем $N$ раз выбирать индекс объекта $i \\sim \\text{Uniform}(1 \\dots N)$ и добавлять $i$-ю пару (объект, целевая переменная) в выборку. В результате в каждой выборке могут появиться повторяющиеся объекты, а какие-то объекты могут вовсе не войти в некоторые выборки.\n",
    "\n",
    "#### Итоговый алгоритм оценки смещения и разброса алгоритма $a$\n",
    "1. Сгенерировать $s$ выборок $X_j$ методом бутстрапа.\n",
    "1. На каждой выборке $X_j$ обучить алгоритм $a_j$.\n",
    "1. Для каждой выборки $X_j$ определить множество объектов $T_j$, не вошедших в нее (out-of-bag). Вычислить предсказания алгоритма $a_j$ на объектах $T_j$. \n",
    "\n",
    "Поскольку у нас есть только один ответ для каждого объекта, мы будем считать шум равным 0, а $\\mathbb{E}[y|x]$ равным имеющемуся правильному ответу для объекта $x$. \n",
    "\n",
    "Итоговые оценки:\n",
    "* Смещение: для одного объекта - квадрат разности среднего предсказания и правильного ответа. Среднее предсказание берется только по тем алгоритмам $a_j$, для которых этот объект входил в out-of-bag выборку $T_j$. Для получения общего смещения выполнить усреденение смещений по объектам.\n",
    "* Разброс: для одного объекта - выборочная дисперсия предсказаний алгоритмов $a_j$, для которых этот объект входил в out-of-bag выборку $T_j$. Для получения общего разброса выполнить усреденение разбросов по объектам.\n",
    "* Ошибка $L$: усреднить квадраты разностей предсказания и правильного ответа по всем выполненным предсказаниям для всех объектов.\n",
    "\n",
    "В результате должно получиться, что ошибка приблизительно равна сумме смещения и разброса!\n",
    "\n",
    "Алгоритм также вкратце описан по [ссылке](https://web.engr.oregonstate.edu/~tgd/classes/534/slides/part9.pdf) (слайды 19-21).\n",
    "\n",
    "__1. (3 балла)__\n",
    "\n",
    "Реализуйте описанный алгоритм. Обратите внимание, что если объект не вошел ни в одну из out-of-bag выборок, учитывать его в вычислении итоговых величин не нужно. Как обычно, разрешается использовать только один цикл - по выборкам (от 0 до num_runs-1)."
   ]
  },
  {
   "cell_type": "code",
   "execution_count": 104,
   "metadata": {},
   "outputs": [],
   "source": [
    "def compute_biase_variance(model, x_data, y_data, iteration_count=1000):\n",
    "    num_objects = len(x_data)\n",
    "    \n",
    "    predictions        = np.zeros(num_objects)\n",
    "    prediction_squares = np.zeros(num_objects)\n",
    "    prediction_counts  = np.zeros(num_objects)\n",
    "    \n",
    "    result_error = 0.0\n",
    "    for iteration_index in range(iteration_count):\n",
    "        indexes            = np.random.randint(low=0, high=num_objects, size=num_objects)\n",
    "        complement_indexes = np.setdiff1d(np.arange(0, num_objects), np.unique(np.sort(indexes)))\n",
    "        \n",
    "        model.fit(x_data[indexes], y_data[indexes])\n",
    "        prediction = model.predict(x_data[complement_indexes])\n",
    "        \n",
    "        predictions[complement_indexes]        += prediction\n",
    "        prediction_squares[complement_indexes] += np.square(prediction)\n",
    "        result_error                           += np.sum(np.square(prediction - y_data[complement_indexes]))\n",
    "        \n",
    "        prediction_counts[complement_indexes] += 1\n",
    "        \n",
    "    variance = np.mean(\n",
    "        (\n",
    "            prediction_squares[prediction_counts > 0] -\n",
    "            prediction_counts[prediction_counts > 0] * np.square(\n",
    "                predictions[prediction_counts > 0] / prediction_counts[prediction_counts > 0]\n",
    "            )\n",
    "        )\n",
    "        / prediction_counts[prediction_counts > 0]\n",
    "    )\n",
    "    \n",
    "    bias = np.mean(\n",
    "        np.square(\n",
    "            predictions[prediction_counts > 0] / prediction_counts[prediction_counts > 0] -\n",
    "            y_data[prediction_counts > 0]\n",
    "        )\n",
    "    )\n",
    "    \n",
    "    return bias, variance, result_error / np.sum(prediction_counts)\n",
    "        \n",
    "    "
   ]
  },
  {
   "cell_type": "markdown",
   "metadata": {},
   "source": [
    "__2. (0 баллов)__\n",
    "\n",
    "Оцените смещение, разброс и ошибку для трех алгоритмов с гиперпараметрами по умолчанию: линейная регрессия, решающее дерево, случайный лес."
   ]
  },
  {
   "cell_type": "code",
   "execution_count": 105,
   "metadata": {},
   "outputs": [
    {
     "name": "stdout",
     "output_type": "stream",
     "text": [
      "LinearRegression computing result : bias: 23.739906369785214 variance: 0.949190128167615 error: 24.750255360756167\n",
      "DecisionTreeRegressor computing result : bias: 10.217905283449522 variance: 13.025926063799398 error: 23.43398120640661\n",
      "RandomForestRegressor computing result : bias: 10.69029042909121 variance: 3.374926771192627 error: 14.069076305145407\n"
     ]
    }
   ],
   "source": [
    "print('LinearRegression computing result : bias: {0[0]} variance: {0[1]} error: {0[2]}'.format(\n",
    "          compute_biase_variance(\n",
    "              LinearRegression(),\n",
    "              boston['data'],\n",
    "              boston['target']\n",
    "          )\n",
    "    )\n",
    ")\n",
    "print('DecisionTreeRegressor computing result : bias: {0[0]} variance: {0[1]} error: {0[2]}'.format(\n",
    "          compute_biase_variance(\n",
    "              DecisionTreeRegressor(),\n",
    "              boston['data'],\n",
    "              boston['target']\n",
    "          )\n",
    "    )\n",
    ")\n",
    "print('RandomForestRegressor computing result : bias: {0[0]} variance: {0[1]} error: {0[2]}'.format(\n",
    "          compute_biase_variance(\n",
    "              RandomForestRegressor(),\n",
    "              boston['data'],\n",
    "              boston['target']\n",
    "          )\n",
    "    )\n",
    ")"
   ]
  },
  {
   "cell_type": "markdown",
   "metadata": {},
   "source": [
    "__3. (1 балл)__\n",
    "Проанализируйте полученный результат. Согласуются ли полученные результаты с теми, что мы обсуждали на семинарах (с комментарием)?\n",
    "\n",
    "\n",
    "В проведенном эксперименте можно заметить две вещи, характеризующие качество моделей:\n",
    "    1. У более простых моделей прослеживается менее выраженная дисперсия. Так, у линейной регрессии она приближенна к единице. У деревьев она намного больше.\n",
    "    2. У более простых моделей прослеживается более выраженное смещение. Так, у линейной регрессии оно в два раза больше, чем у деревьев.\n",
    "  \n",
    "Насколько мне известно, результаты эксперимента согласуются с тем, что мы обсуждали на семинаре.\n",
    "\n",
    "__3. (1 балл)__\n",
    "Вспомните обсуждение с лекции о том, во сколько раз в теории бутстрап уменьшает разброс базового алгоритма. Выполняется ли это в ваших экспериментах? Если нет, поясните, почему.\n",
    "\n",
    "В теории, бустрап уменьшает разброс базового алгоритма в К раз. Но для такого хорошего результата алгоритмы не должны никак кореллировать, что, конечно же, на практике не так. Именно этим и можно объяснить то, что бустрап дал бОльший разброс, чем должен."
   ]
  },
  {
   "cell_type": "markdown",
   "metadata": {},
   "source": [
    "### Визуализация предсказаний базовых алгоритмов бэггинга\n",
    "\n",
    "В материалах лекций можно найти изображение, похожее на мишень - визуализация алгоритмов с разным смещением и разным разбросом. В центре \"мишени\" - правильный ответ, а \"попадания\" - предсказания алгоритмов, обученных по разным выборкам. Построим похожее изображение на наших данных для трех алгоритмов. Наши \"мишени\" будут одномерными, потому что мы решаем задачу одномерной регрессии.\n",
    "\n",
    "__4. (2 балла)__\n",
    "\n",
    "Реализуйте фукнцию plot_predictions. Она должна выполнять следующие действия:\n",
    "1. Случайно выбрать num_test_objects пар объект-целевая переменная из выборки X, y. Получится две выборки: маленькая X_test, y_test (выбранные тестовые объекты) и X_train, y_train (остальные объекты).\n",
    "1. Сгенерировать num_runs выборок методом бутстарапа из X_train, y_train. На каждой выборке обучить алгоритм regressor и сделать предсказания для X_test.\n",
    "1. Нарисовать scatter-график. По оси абсцисс - объекты тестовой выборки (номера от 0 до num_test_objects-1), по оси ординат - предсказания. В итоге получится num_test_objects столбиков с точками. Для каждого тестового объекта надо отметить одним цветом все предсказания для него, а также черным цветом отметить правильный ответ.\n",
    "1. Подпишите оси и название графика (аргумент title)."
   ]
  },
  {
   "cell_type": "code",
   "execution_count": 101,
   "metadata": {},
   "outputs": [],
   "source": [
    "def split(x_data, y_data, num_test_objects):\n",
    "    test_indexes  = np.random.choice(len(x_data), num_test_objects, replace=False)\n",
    "    train_indexes = np.setdiff1d(np.arange(len(x_data)), test_indexes)\n",
    "    return x_data[train_indexes], y_data[train_indexes], x_data[test_indexes], y_data[test_indexes]\n",
    "\n",
    "def plot_predictions(model, x_data, y_data, title, num_runs=100, num_test_objects=10):\n",
    "    plt.xlabel('objects')\n",
    "    plt.ylabel('model prediction')\n",
    "    \n",
    "    x_train, y_train, x_test, y_test = split(x_data, y_data, num_test_objects)\n",
    "    predictions = np.empty(shape=(num_runs, x_data.shape[0]))\n",
    "    \n",
    "    for i in range(num_runs):\n",
    "        indexes = np.random.randint(low=0, high=len(x_train), size=len(x_train))\n",
    "        model.fit(x_train[indexes], y_train[indexes])\n",
    "        plt.scatter(np.arange(num_test_objects), model.predict(x_test), color='orange', alpha=0.2)\n",
    "        \n",
    "    plt.scatter(np.arange(num_test_objects), y_test, color='black', label='right prediction')\n",
    "    plt.legend(title=title)"
   ]
  },
  {
   "cell_type": "markdown",
   "metadata": {},
   "source": [
    "__5. (0 баллов)__\n",
    "\n",
    "Нарисуйте графики для линейной регрессии, решающего дерева и случайного леса. Нарисуйте три графика в строчку (это можно сделать с помощью plt.subplot) с одинаковой осью ординат (это важно для понимания масштаба разброса у разных алгоритмов):"
   ]
  },
  {
   "cell_type": "code",
   "execution_count": 103,
   "metadata": {},
   "outputs": [
    {
     "data": {
      "image/png": "[encoded data removed]",
      "text/plain": [
       "<Figure size 2880x1080 with 3 Axes>"
      ]
     },
     "metadata": {
      "needs_background": "light"
     },
     "output_type": "display_data"
    }
   ],
   "source": [
    "plt.figure(figsize=(40, 15))\n",
    "plt.subplot(3, 8, 1)\n",
    "plot_predictions(LinearRegression(), boston['data'], boston['target'], 'LinearRegression')\n",
    "\n",
    "plt.subplot(3, 8, 2)\n",
    "plot_predictions(DecisionTreeRegressor(), boston['data'], boston['target'], 'DecisionTreeRegressor')\n",
    "\n",
    "plt.subplot(3, 8, 3)\n",
    "plot_predictions(RandomForestRegressor(), boston['data'], boston['target'], 'RandomForestRegressor')"
   ]
  },
  {
   "cell_type": "markdown",
   "metadata": {},
   "source": [
    "__6. (1 балл)__\n",
    "\n",
    "Для каждого графика прокомментируйте, как он характеризует смещение и разброс соответствующего алгоритма. \n",
    "\n",
    "__Your answer here:__\n",
    "\n",
    "Как я и говорил выше, для более простых моделей прослеживается менее выраженная дисперсия.\n",
    "Так, в первом графике явно прослеживается наибольшая кучность точек среди всех трех.\n",
    "На графике, соответствующем решающему дереву, предсказания распределены намного шире. \n",
    "Самый правый график иллюстрирует некоторое среднее значение дисперсии, что согласуется с посчитанным выше.\n",
    "\n",
    "Аналогичная ситуация со смещением, которое для линейной модели в некоторых случаях принимает достаточно большое значение (например, в 3, 4, 7). На деревьях такие выбросы очень редки, и ими спокойно можно пренебречь."
   ]
  },
  {
   "cell_type": "markdown",
   "metadata": {},
   "source": [
    "### Изменение bias и variance при изменении гиперпараметров"
   ]
  },
  {
   "cell_type": "markdown",
   "metadata": {},
   "source": [
    "__7. (0 баллов)__\n",
    "\n",
    "Постройте графики зависимости смещения и разброса от гиперпараметров решающего дерева max_depth (от 1 до 10) и max_features (от 1 до X.shape[1]):"
   ]
  },
  {
   "cell_type": "code",
   "execution_count": null,
   "metadata": {},
   "outputs": [],
   "source": [
    "### your code here"
   ]
  },
  {
   "cell_type": "markdown",
   "metadata": {},
   "source": [
    "__8. (0 баллов)__\n",
    "\n",
    "Постройте графики зависимости смещения и разброса от n_estimators (по сетке 2**np.arange(1, 10)) для случайного леса и градиентного бустинга:"
   ]
  },
  {
   "cell_type": "code",
   "execution_count": null,
   "metadata": {},
   "outputs": [],
   "source": [
    "### your code here"
   ]
  },
  {
   "cell_type": "markdown",
   "metadata": {},
   "source": [
    "__3. (2 балла)__\n",
    "\n",
    "Прокомментируйте графики (всего 4 графика): почему они имеют такой вид.\n",
    "\n",
    "__Your answer here:__"
   ]
  },
  {
   "cell_type": "code",
   "execution_count": null,
   "metadata": {},
   "outputs": [],
   "source": []
  }
 ],
 "metadata": {
  "kernelspec": {
   "display_name": "Python 3",
   "language": "python",
   "name": "python3"
  },
  "language_info": {
   "codemirror_mode": {
    "name": "ipython",
    "version": 3
   },
   "file_extension": ".py",
   "mimetype": "text/x-python",
   "name": "python",
   "nbconvert_exporter": "python",
   "pygments_lexer": "ipython3",
   "version": "3.7.0"
  }
 },
 "nbformat": 4,
 "nbformat_minor": 2
}
