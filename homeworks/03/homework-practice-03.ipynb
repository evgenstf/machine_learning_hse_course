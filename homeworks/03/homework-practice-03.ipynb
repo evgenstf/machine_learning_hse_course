{
 "cells": [
  {
   "cell_type": "markdown",
   "metadata": {},
   "source": [
    "## Машинное обучение, ФКН ВШЭ\n",
    "\n",
    "## Практическое задание 3\n",
    "\n",
    "### Общая информация\n",
    "Дата выдачи: 22.09.2018\n",
    "\n",
    "Мягкий дедлайн: 7:59MSK 02.10.2018\n",
    "\n",
    "Жесткий дедлайн: 23:59MSK 03.10.2018"
   ]
  },
  {
   "cell_type": "markdown",
   "metadata": {},
   "source": [
    "### О задании\n",
    "\n",
    "Задание состоит из двух частей: в **первой** части вы научитесь применять готовые модели из `sklearn` на данных и исследуете особенности разных видов регуляризации; во **второй** части вы реализуете собственный класс линейной регрессии для нестандартной функции потерь (включая процесс обучения) и исследуете скорость сходимости различных градиентных методов для этой модели.\n",
    "\n",
    "\n",
    "### Оценивание и штрафы\n",
    "Каждая из задач имеет определенную «стоимость» (указана в скобках около задачи). Максимально допустимая оценка за работу — 10 баллов.\n",
    "\n",
    "Сдавать задание после указанного срока сдачи нельзя. При выставлении неполного балла за задание в связи с наличием ошибок на усмотрение проверяющего предусмотрена возможность исправить работу на указанных в ответном письме условиях.\n",
    "\n",
    "Задание выполняется самостоятельно. «Похожие» решения считаются плагиатом и все задействованные студенты (в том числе те, у кого списали) не могут получить за него больше 0 баллов (подробнее о плагиате см. на странице курса). Если вы нашли решение какого-то из заданий (или его часть) в открытом источнике, необходимо указать ссылку на этот источник в отдельном блоке в конце Вашей работы (скорее всего вы будете не единственным, кто это нашел, поэтому чтобы исключить подозрение в плагиате, необходима ссылка на источник).\n",
    "\n",
    "Неэффективная реализация кода может негативно отразиться на оценке.\n",
    "\n",
    "\n",
    "### Формат сдачи\n",
    "Задания сдаются через систему anytask. Присылать необходимо ноутбук с выполненным заданием. Часть задания сдаётся в Яндекс.Контест. \n",
    "\n",
    "Для удобства проверки самостоятельно посчитайте свою максимальную оценку (исходя из набора решенных задач) и укажите ниже.\n",
    "\n",
    "**Оценка**: ..."
   ]
  },
  {
   "cell_type": "code",
   "execution_count": 98,
   "metadata": {},
   "outputs": [],
   "source": [
    "import pandas\n",
    "import matplotlib.pyplot as plt\n",
    "from sklearn.model_selection import train_test_split\n",
    "from sklearn.preprocessing import MinMaxScaler\n",
    "from sklearn.linear_model import LinearRegression, Lasso\n",
    "from sklearn.metrics import r2_score"
   ]
  },
  {
   "cell_type": "code",
   "execution_count": 106,
   "metadata": {},
   "outputs": [],
   "source": [
    "def scale_data(x_data):\n",
    "    scaler = MinMaxScaler()\n",
    "    return scaler.fit_transform(x_data)\n",
    "\n",
    "def pair_plot(df, target):\n",
    "    ncol, nrow = 7, df.shape[1] // 7 + (df.shape[1] % 7 > 0)\n",
    "    plt.figure(figsize=(ncol * 4, nrow * 4))\n",
    "\n",
    "    for i, feature in enumerate(df.columns):\n",
    "        plt.subplot(nrow, ncol, i + 1)\n",
    "        plt.scatter(df[feature], target, s=10, marker='o', alpha=.6)\n",
    "        plt.xlabel(feature)\n",
    "        if i % ncol == 0:\n",
    "            plt.ylabel('target')"
   ]
  },
  {
   "cell_type": "code",
   "execution_count": 116,
   "metadata": {},
   "outputs": [],
   "source": [
    "practice_data = pandas.read_csv('./homework-practice-03-data.csv')\n",
    "x_practice_data = practice_data.drop(columns=['f1'])\n",
    "y_practice_data = practice_data['f1']"
   ]
  },
  {
   "cell_type": "markdown",
   "metadata": {},
   "source": [
    "## Линейная регрессия из коробки\n",
    "\n",
    "#### 1. [0.5 балла] Разбейте выборку, загруженную в ячейке выше в переменную `practice_data`, на обучающую и тестовую части в соотношении 8:2."
   ]
  },
  {
   "cell_type": "code",
   "execution_count": 117,
   "metadata": {},
   "outputs": [
    {
     "name": "stderr",
     "output_type": "stream",
     "text": [
      "/usr/local/lib/python3.7/site-packages/sklearn/model_selection/_split.py:2026: FutureWarning: From version 0.21, test_size will always complement train_size unless both are specified.\n",
      "  FutureWarning)\n"
     ]
    },
    {
     "data": {
      "text/html": [
       "<div>\n",
       "<style scoped>\n",
       "    .dataframe tbody tr th:only-of-type {\n",
       "        vertical-align: middle;\n",
       "    }\n",
       "\n",
       "    .dataframe tbody tr th {\n",
       "        vertical-align: top;\n",
       "    }\n",
       "\n",
       "    .dataframe thead th {\n",
       "        text-align: right;\n",
       "    }\n",
       "</style>\n",
       "<table border=\"1\" class=\"dataframe\">\n",
       "  <thead>\n",
       "    <tr style=\"text-align: right;\">\n",
       "      <th></th>\n",
       "      <th>f0</th>\n",
       "      <th>f2</th>\n",
       "      <th>f3</th>\n",
       "      <th>f4</th>\n",
       "      <th>f5</th>\n",
       "      <th>f6</th>\n",
       "    </tr>\n",
       "  </thead>\n",
       "  <tbody>\n",
       "    <tr>\n",
       "      <th>228</th>\n",
       "      <td>13.28</td>\n",
       "      <td>8.947412</td>\n",
       "      <td>1.854125</td>\n",
       "      <td>0.304199</td>\n",
       "      <td>0.637632</td>\n",
       "      <td>724.955750</td>\n",
       "    </tr>\n",
       "    <tr>\n",
       "      <th>208</th>\n",
       "      <td>24.27</td>\n",
       "      <td>0.731584</td>\n",
       "      <td>4.289619</td>\n",
       "      <td>0.991890</td>\n",
       "      <td>0.873039</td>\n",
       "      <td>1514.920900</td>\n",
       "    </tr>\n",
       "    <tr>\n",
       "      <th>96</th>\n",
       "      <td>27.28</td>\n",
       "      <td>1.730259</td>\n",
       "      <td>1.431718</td>\n",
       "      <td>0.859581</td>\n",
       "      <td>0.513208</td>\n",
       "      <td>58.940865</td>\n",
       "    </tr>\n",
       "    <tr>\n",
       "      <th>167</th>\n",
       "      <td>31.71</td>\n",
       "      <td>-2.800439</td>\n",
       "      <td>-2.605946</td>\n",
       "      <td>0.878373</td>\n",
       "      <td>2.113398</td>\n",
       "      <td>7614.162600</td>\n",
       "    </tr>\n",
       "    <tr>\n",
       "      <th>84</th>\n",
       "      <td>15.98</td>\n",
       "      <td>1.332029</td>\n",
       "      <td>9.779562</td>\n",
       "      <td>0.983426</td>\n",
       "      <td>1.473478</td>\n",
       "      <td>1886.239400</td>\n",
       "    </tr>\n",
       "  </tbody>\n",
       "</table>\n",
       "</div>"
      ],
      "text/plain": [
       "        f0        f2        f3        f4        f5           f6\n",
       "228  13.28  8.947412  1.854125  0.304199  0.637632   724.955750\n",
       "208  24.27  0.731584  4.289619  0.991890  0.873039  1514.920900\n",
       "96   27.28  1.730259  1.431718  0.859581  0.513208    58.940865\n",
       "167  31.71 -2.800439 -2.605946  0.878373  2.113398  7614.162600\n",
       "84   15.98  1.332029  9.779562  0.983426  1.473478  1886.239400"
      ]
     },
     "execution_count": 117,
     "metadata": {},
     "output_type": "execute_result"
    }
   ],
   "source": [
    "x_train, x_test, y_train, y_test = train_test_split(\n",
    "        x_practice_data, y_practice_data, train_size=0.8, random_state=42)\n",
    "x_train.head()"
   ]
  },
  {
   "cell_type": "markdown",
   "metadata": {},
   "source": [
    "#### 2. [0.5 балла] В качестве целевой переменной для задачи регрессии будем использовать значения признака f1. Обучите, а затем провалидируйте на тестовых данных  следующие модели, используя в качестве метрики качества $R^2$:\n",
    "* [`LinearRegression`](http://scikit-learn.org/stable/modules/generated/sklearn.linear_model.LinearRegression.html);\n",
    "* [`Lasso`](http://scikit-learn.org/stable/modules/generated/sklearn.linear_model.Lasso.html) (линейная регрессия с $L1$-регуляризатором) с коэффициентом регуляризации, равным 0.01.\n",
    "\n",
    "Не забудьте отмасштабировать данные перед обучением моделей!"
   ]
  },
  {
   "cell_type": "code",
   "execution_count": 118,
   "metadata": {},
   "outputs": [
    {
     "name": "stdout",
     "output_type": "stream",
     "text": [
      "simple_linear_model:\n",
      "  model has been trained\n",
      "  model r2_score: -0.19011579351920727\n",
      "lasso_linear_model:\n",
      "  model has been trained\n",
      "  model r2_score: -0.10458100714571472\n"
     ]
    }
   ],
   "source": [
    "x_train_scaled = scale_data(x_train)\n",
    "x_test_scaled = scale_data(x_test)\n",
    "\n",
    "def train_and_print_r2_score(model, train_data, test_data):\n",
    "    model.fit(*train_data)\n",
    "    print(\"  model has been trained\")\n",
    "    prediction = model.predict(test_data[0])\n",
    "    print(\"  model r2_score:\", r2_score(prediction, test_data[1]))\n",
    "\n",
    "print(\"simple_linear_model:\")\n",
    "simple_linear_model = LinearRegression()\n",
    "train_and_print_r2_score(simple_linear_model, (x_train_scaled, y_train), (x_test_scaled, y_test))\n",
    "\n",
    "print(\"lasso_linear_model:\")\n",
    "lasso_linear_model = Lasso(alpha=0.01)\n",
    "train_and_print_r2_score(lasso_linear_model, (x_train_scaled, y_train), (x_test_scaled, y_test))\n",
    " "
   ]
  },
  {
   "cell_type": "markdown",
   "metadata": {},
   "source": [
    "#### 3. [1 балл] Изучите значения параметров получившихся моделей и сравните количество строго нулевых весов в них."
   ]
  },
  {
   "cell_type": "code",
   "execution_count": 119,
   "metadata": {},
   "outputs": [
    {
     "name": "stdout",
     "output_type": "stream",
     "text": [
      "simple_linear_model coefficients: [ 4.76700358 -0.08580226 -0.28849796  0.10520103  1.38159276  0.01781414]\n",
      "lasso_linear_model coefficients: [ 4.52409084 -0.         -0.          0.03807787  0.72527362  0.        ]\n"
     ]
    }
   ],
   "source": [
    "print(\"simple_linear_model coefficients:\", simple_linear_model.coef_)\n",
    "print(\"lasso_linear_model coefficients:\", lasso_linear_model.coef_)"
   ]
  },
  {
   "cell_type": "markdown",
   "metadata": {},
   "source": [
    "Можно видеть, что L1-регуляризация действительно вывела 3 нулевых веса для входных аргументов."
   ]
  },
  {
   "cell_type": "markdown",
   "metadata": {},
   "source": [
    "#### 4. [1 балл] Нарисуйте попарные scatter plot для всех признаков в исходных данных (включая f1). Можно ли что-то сказать о связи признаков, веса которых были занулены методом Lasso, с целевой переменной?"
   ]
  },
  {
   "cell_type": "code",
   "execution_count": 121,
   "metadata": {},
   "outputs": [
    {
     "data": {
      "image/png": "[encoded data removed]",
      "text/plain": [
       "<Figure size 2016x288 with 7 Axes>"
      ]
     },
     "metadata": {
      "needs_background": "light"
     },
     "output_type": "display_data"
    }
   ],
   "source": [
    "pair_plot(practice_data, practice_data['f1'])"
   ]
  },
  {
   "cell_type": "markdown",
   "metadata": {},
   "source": [
    "Можно видеть, что L1-регуляризация выявила самый полезный (конечно, не рассматривая f1) с точки зрения линейной зависимости признак f0. Кроме того, с незначительными весами были взяты признаки f4, f5. "
   ]
  },
  {
   "cell_type": "markdown",
   "metadata": {},
   "source": [
    "## Реализация градиентного спуска\n",
    "\n",
    "#### 5. [4 балла] Реализуйте модель линейной регрессии для функции потерь Huber loss, обучаемую градиентным спуском:\n",
    "\n",
    "$$\n",
    "L_\\delta(a,y)=\n",
    "\\begin{cases}\n",
    " \\frac{1}{2}(y - a)^2,                   & |y - a| \\le \\delta, \\\\\n",
    " \\delta\\, |y - a| - \\frac{1}{2}\\delta^2 & \\textrm{иначе.}\n",
    "\\end{cases}\n",
    "$$\n",
    "\n",
    "Все вычисления должны быть векторизованы, циклы средствами python допускается использовать только для итераций градиентного спуска. В качестве критерия останова необходимо использовать (одновременно):\n",
    "\n",
    "* проверку на евклидовую норму разности весов на двух соседних итерациях (например, меньше некоторого малого числа порядка $10^{-6}$, задаваемого параметром `tolerance`);\n",
    "* достижение максимального числа итераций (например, 10000, задаваемого параметром `max_iter`).\n",
    "\n",
    "Необходимо реализовать метод полного и стохастического градиентных спусков, а также поддержать метод momentum при помощи параметра `alpha` (способ оценивания градиента должен задаваться при помощи параметра `gd_type`).\n",
    "\n",
    "Чтобы проследить, что оптимизационный процесс действительно сходится, будем использовать атрибут класса `loss_history` — в нём после вызова метода `fit` должны содержаться значения функции потерь для всех итераций, начиная с первой (до совершения первого шага по антиградиенту).\n",
    "\n",
    "Инициализировать веса можно случайным образом или нулевым вектором. Ниже приведён шаблон класса, который должен содержать код реализации модели.\n",
    "\n",
    "__Python-файл с реализованным классом необходимо сдать на проверку в [Яндекс.Контест](https://contest.yandex.ru/contest/9247/)__\n",
    "\n",
    "Укажите ссылку на посылку (run-report):"
   ]
  },
  {
   "cell_type": "code",
   "execution_count": null,
   "metadata": {
    "collapsed": true
   },
   "outputs": [],
   "source": [
    "from sklearn.base import BaseEstimator\n",
    "\n",
    "class HuberReg(BaseEstimator):\n",
    "    def __init__(self, delta=1.0, gd_type='stochastic', \n",
    "                 tolerance=1e-4, max_iter=1000, w0=None, alpha=1e-3, eta=1e-2):\n",
    "        \"\"\"\n",
    "        gd_type: 'full' or 'stochastic'\n",
    "        tolerance: for stopping gradient descent\n",
    "        max_iter: maximum number of steps in gradient descent\n",
    "        w0: np.array of shape (d) - init weights\n",
    "        eta: learning rate\n",
    "        alpha: momentum coefficient\n",
    "        \"\"\"\n",
    "        self.delta = delta\n",
    "        self.gd_type = gd_type\n",
    "        self.tolerance = tolerance\n",
    "        self.max_iter = max_iter\n",
    "        self.w0 = w0\n",
    "        self.alpha = alpha\n",
    "        self.w = None\n",
    "        self.eta = eta\n",
    "        self.loss_history = None # list of loss function values at each training iteration\n",
    "    \n",
    "    def fit(self, X, y):\n",
    "        \"\"\"\n",
    "        X: np.array of shape (l, d)\n",
    "        y: np.array of shape (l)\n",
    "        ---\n",
    "        output: self\n",
    "        \"\"\"\n",
    "        self.loss_history = []\n",
    "\n",
    "        return self\n",
    "    \n",
    "    def predict(self, X):\n",
    "        if self.w is None:\n",
    "            raise Exception('Not trained yet')\n",
    "        \n",
    "        pass\n",
    "    \n",
    "    def calc_gradient(self, X, y):\n",
    "        \"\"\"\n",
    "        X: np.array of shape (l, d) (l can be equal to 1 if stochastic)\n",
    "        y: np.array of shape (l)\n",
    "        ---\n",
    "        output: np.array of shape (d)\n",
    "        \"\"\"\n",
    "        pass\n",
    "\n",
    "    def calc_loss(self, X, y):\n",
    "        \"\"\"\n",
    "        X: np.array of shape (l, d)\n",
    "        y: np.array of shape (l)\n",
    "        ---\n",
    "        output: float \n",
    "        \"\"\" \n",
    "        pass"
   ]
  },
  {
   "cell_type": "markdown",
   "metadata": {},
   "source": [
    "#### 6. [1.5 балла] Обучите и провалидируйте модель на тех же данных, сравните качество с предыдущими методами. Исследуйте влияние параметров `max_iter` и `alpha` на процесс оптимизации. Согласуется ли оно с вашими ожиданиями?"
   ]
  },
  {
   "cell_type": "code",
   "execution_count": null,
   "metadata": {
    "collapsed": true
   },
   "outputs": [],
   "source": [
    "# your code here"
   ]
  },
  {
   "cell_type": "markdown",
   "metadata": {},
   "source": [
    "#### 7. [1.5 балла] Постройте графики (на одной и той же картинке) зависимости величины функции потерь от номера итерации для полного, стохастического градиентного спусков, а также для полного градиентного спуска с методом инерции. Сделайте выводы о скорости сходимости различных модификаций градиентного спуска.\n",
    "\n",
    "Не забывайте о том, что должны из себя представлять *красивые* графики!"
   ]
  },
  {
   "cell_type": "code",
   "execution_count": null,
   "metadata": {
    "collapsed": true
   },
   "outputs": [],
   "source": [
    "# your code here"
   ]
  }
 ],
 "metadata": {
  "kernelspec": {
   "display_name": "Python 3",
   "language": "python",
   "name": "python3"
  },
  "language_info": {
   "codemirror_mode": {
    "name": "ipython",
    "version": 3
   },
   "file_extension": ".py",
   "mimetype": "text/x-python",
   "name": "python",
   "nbconvert_exporter": "python",
   "pygments_lexer": "ipython3",
   "version": "3.7.0"
  }
 },
 "nbformat": 4,
 "nbformat_minor": 2
}
