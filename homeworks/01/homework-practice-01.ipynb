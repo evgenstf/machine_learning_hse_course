{
 "cells": [
  {
   "cell_type": "markdown",
   "metadata": {},
   "source": [
    "# Машинное обучение, ФКН ВШЭ\n",
    "\n",
    "## Практическое задание 1\n",
    "\n",
    "### Общая информация\n",
    "Дата выдачи: 07.09.2018  \n",
    "\n",
    "Мягкий дедлайн: 07:59MSK 15.09.2018 (за каждый день просрочки снимается 1 балл)\n",
    "\n",
    "Жесткий дедлайн: 23:59MSK 16.09.2018  "
   ]
  },
  {
   "cell_type": "markdown",
   "metadata": {},
   "source": [
    "### О задании\n",
    "\n",
    "Задание состоит из двух разделов, посвященных работе с табличными данными с помощью библиотеки pandas и визуализации с помощью matplotlib. В каждом разделе вам предлагается выполнить несколько заданий. Баллы даются за выполнение отдельных пунктов. Задачи в рамках одного раздела рекомендуется решать в том порядке, в котором они даны в задании.\n",
    "\n",
    "Задание направлено на освоение jupyter notebook (будет использоваться в дальнейших заданиях), библиотекам pandas и matplotlib.\n",
    "\n",
    "### Оценивание и штрафы\n",
    "Каждая из задач имеет определенную «стоимость» (указана в скобках около задачи). Максимально допустимая оценка за работу — 10 баллов.\n",
    "\n",
    "Сдавать задание после указанного срока сдачи нельзя. При выставлении неполного балла за задание в связи с наличием ошибок на усмотрение проверяющего предусмотрена возможность исправить работу на указанных в ответном письме условиях.\n",
    "\n",
    "Задание выполняется самостоятельно. «Похожие» решения считаются плагиатом и все задействованные студенты (в том числе те, у кого списали) не могут получить за него больше 0 баллов (подробнее о плагиате см. на странице курса). Если вы нашли решение какого-то из заданий (или его часть) в открытом источнике, необходимо указать ссылку на этот источник в отдельном блоке в конце вашей работы (скорее всего вы будете не единственным, кто это нашел, поэтому чтобы исключить подозрение в плагиате, необходима ссылка на источник).\n",
    "\n",
    "### Формат сдачи\n",
    "Задания сдаются через систему Anytask. Инвайт можно найти на странице курса. Присылать необходимо ноутбук с выполненным заданием. \n",
    "\n",
    "Для удобства проверки самостоятельно посчитайте свою максимальную оценку (исходя из набора решенных задач) и укажите ниже.\n",
    "\n",
    "**Оценка: 10.**"
   ]
  },
  {
   "cell_type": "markdown",
   "metadata": {},
   "source": [
    "## 0. Введение"
   ]
  },
  {
   "cell_type": "markdown",
   "metadata": {
    "collapsed": true
   },
   "source": [
    "Сейчас мы находимся в jupyter-ноутбуке (или ipython-ноутбуке). Это удобная среда для написания кода, проведения экспериментов, изучения данных, построения визуализаций и других нужд, не связанных с написаем production-кода. \n",
    "\n",
    "Ноутбук состоит из ячеек, каждая из которых может быть либо ячейкой с кодом, либо ячейкой с текстом размеченным и неразмеченным. Текст поддерживает markdown-разметку и формулы в Latex.\n",
    "\n",
    "Для работы с содержимым ячейки используется *режим редактирования* (*Edit mode*, включается нажатием клавиши **Enter** после выбора ячейки), а для навигации между ячейками искользуется *командный режим* (*Command mode*, включается нажатием клавиши **Esc**). Тип ячейки можно задать в командном режиме либо с помощью горячих клавиш (**y** to code, **m** to markdown, **r** to edit raw text), либо в меню *Cell -> Cell type*. \n",
    "\n",
    "После заполнения ячейки нужно нажать *Shift + Enter*, эта команда обработает содержимое ячейки: проинтерпретирует код или сверстает размеченный текст."
   ]
  },
  {
   "cell_type": "code",
   "execution_count": 1,
   "metadata": {},
   "outputs": [
    {
     "data": {
      "text/plain": [
       "4"
      ]
     },
     "execution_count": 1,
     "metadata": {},
     "output_type": "execute_result"
    }
   ],
   "source": [
    "# ячейка с кодом, при выполнении которой появится output\n",
    "2 + 2"
   ]
  },
  {
   "cell_type": "markdown",
   "metadata": {},
   "source": [
    "А это ___ячейка с текстом___."
   ]
  },
  {
   "cell_type": "raw",
   "metadata": {},
   "source": [
    "Ячейка с неразмеченыным текстом."
   ]
  },
  {
   "cell_type": "markdown",
   "metadata": {},
   "source": [
    "Попробуйте создать свои ячейки, написать какой-нибудь код и текст какой-нибудь формулой."
   ]
  },
  {
   "cell_type": "code",
   "execution_count": 2,
   "metadata": {},
   "outputs": [
    {
     "name": "stdout",
     "output_type": "stream",
     "text": [
      "30\n"
     ]
    }
   ],
   "source": [
    "a = 10\n",
    "b = 20\n",
    "print(a + b)"
   ]
  },
  {
   "cell_type": "markdown",
   "metadata": {},
   "source": [
    "[Здесь](https://athena.brynmawr.edu/jupyter/hub/dblank/public/Jupyter%20Notebook%20Users%20Manual.ipynb) находится <s>не</s>большая заметка о используемом языке разметки Markdown. Он позволяет:\n",
    "\n",
    "0. Составлять упорядоченные списки\n",
    "1. #Делать \n",
    "##заголовки \n",
    "###разного уровня\n",
    "3. Выделять *текст* <s>при</s> **необходимости**\n",
    "4. Добавлять [ссылки](http://imgs.xkcd.com/comics/the_universal_label.png)\n",
    "\n",
    "\n",
    "* Составлять неупорядоченные списки\n",
    "\n",
    "Делать вставки с помощью LaTex:\n",
    "    \n",
    "$\n",
    "\\left\\{\n",
    "\\begin{array}{ll}\n",
    "x = 16 \\sin^3 (t) \\\\ \n",
    "y = 13 \\cos (t) - 5 \\cos (2t) - 2 \\cos (3t) - \\cos (4t) \\\\\n",
    "t \\in [0, 2 \\pi]\n",
    "\\end{array}\n",
    "\\right.$"
   ]
  },
  {
   "cell_type": "markdown",
   "metadata": {},
   "source": [
    "## 1. Табличные данные и Pandas"
   ]
  },
  {
   "cell_type": "markdown",
   "metadata": {},
   "source": [
    "Pandas — удобная библиотека для работы с табличными данными в Python, если данных не слишком много и они помещаются в оперативную память вашего компьютера. Несмотря на неэффективность реализации и некоторые проблемы, библиотека стала стандартом в анализе данных. С этой библиотекой мы сейчас и познакомимся.\n",
    "\n",
    "Основной объект в pandas это DataFrame, представляющий собой таблицу с именованными колонками различных типов, индексом (может быть многоуровневым). DataFrame можно создавать, считывая таблицу из файла или задавая вручную из других объектов.\n",
    "\n",
    "В этой части потребуется выполнить несколько небольших заданий. Можно пойти двумя путями: сначала изучить материалы, а потом приступить к заданиям, или же разбираться \"по ходу\". Выбирайте сами.\n",
    "\n",
    "Материалы:\n",
    "1. [Pandas за 10 минут из официального руководства](http://pandas.pydata.org/pandas-docs/stable/10min.html)\n",
    "2. [Документация](http://pandas.pydata.org/pandas-docs/stable/index.html) (стоит обращаться, если не понятно, как вызывать конкретный метод)\n",
    "3. [Примеры использования функционала](http://nbviewer.jupyter.org/github/justmarkham/pandas-videos/blob/master/pandas.ipynb)\n",
    "\n",
    "Многие из заданий можно выполнить несколькими способами. Не существуют единственно верного, но попробуйте максимально задействовать арсенал pandas и ориентируйтесь на простоту и понятность вашего кода. Мы не будем подсказывать, что нужно использовать для решения конкретной задачи, попробуйте находить необходимый функционал сами (название метода чаще всего очевидно). В помощь вам документация, поиск и stackoverflow."
   ]
  },
  {
   "cell_type": "code",
   "execution_count": 3,
   "metadata": {},
   "outputs": [
    {
     "name": "stdout",
     "output_type": "stream",
     "text": [
      "Populating the interactive namespace from numpy and matplotlib\n"
     ]
    }
   ],
   "source": [
    "%pylab inline\n",
    "import pandas as pd"
   ]
  },
  {
   "cell_type": "markdown",
   "metadata": {},
   "source": [
    "Данные можно скачать [отсюда](https://www.dropbox.com/s/5qq94wzmbw4e54r/data.csv?dl=0)."
   ]
  },
  {
   "cell_type": "code",
   "execution_count": 4,
   "metadata": {},
   "outputs": [],
   "source": [
    "! wget  -O 'orders.csv' -q 'https://www.dropbox.com/s/5qq94wzmbw4e54r/data.csv?dl=0'"
   ]
  },
  {
   "cell_type": "markdown",
   "metadata": {},
   "source": [
    "#### 1. [0.5 баллов] Откройте файл с таблицей (не забудьте про её формат). Выведите последние 10 строк.\n",
    "\n",
    "Посмотрите на данные и скажите, что они из себя представляют, сколько в таблице строк, какие столбцы?"
   ]
  },
  {
   "cell_type": "code",
   "execution_count": 5,
   "metadata": {},
   "outputs": [
    {
     "data": {
      "text/html": [
       "<div>\n",
       "<style scoped>\n",
       "    .dataframe tbody tr th:only-of-type {\n",
       "        vertical-align: middle;\n",
       "    }\n",
       "\n",
       "    .dataframe tbody tr th {\n",
       "        vertical-align: top;\n",
       "    }\n",
       "\n",
       "    .dataframe thead th {\n",
       "        text-align: right;\n",
       "    }\n",
       "</style>\n",
       "<table border=\"1\" class=\"dataframe\">\n",
       "  <thead>\n",
       "    <tr style=\"text-align: right;\">\n",
       "      <th></th>\n",
       "      <th>order_id</th>\n",
       "      <th>quantity</th>\n",
       "      <th>item_name</th>\n",
       "      <th>choice_description</th>\n",
       "      <th>item_price</th>\n",
       "    </tr>\n",
       "  </thead>\n",
       "  <tbody>\n",
       "    <tr>\n",
       "      <th>4612</th>\n",
       "      <td>1831</td>\n",
       "      <td>1</td>\n",
       "      <td>Carnitas Bowl</td>\n",
       "      <td>[Fresh Tomato Salsa, [Fajita Vegetables, Rice,...</td>\n",
       "      <td>$9.25</td>\n",
       "    </tr>\n",
       "    <tr>\n",
       "      <th>4613</th>\n",
       "      <td>1831</td>\n",
       "      <td>1</td>\n",
       "      <td>Chips</td>\n",
       "      <td>NaN</td>\n",
       "      <td>$2.15</td>\n",
       "    </tr>\n",
       "    <tr>\n",
       "      <th>4614</th>\n",
       "      <td>1831</td>\n",
       "      <td>1</td>\n",
       "      <td>Bottled Water</td>\n",
       "      <td>NaN</td>\n",
       "      <td>$1.50</td>\n",
       "    </tr>\n",
       "    <tr>\n",
       "      <th>4615</th>\n",
       "      <td>1832</td>\n",
       "      <td>1</td>\n",
       "      <td>Chicken Soft Tacos</td>\n",
       "      <td>[Fresh Tomato Salsa, [Rice, Cheese, Sour Cream]]</td>\n",
       "      <td>$8.75</td>\n",
       "    </tr>\n",
       "    <tr>\n",
       "      <th>4616</th>\n",
       "      <td>1832</td>\n",
       "      <td>1</td>\n",
       "      <td>Chips and Guacamole</td>\n",
       "      <td>NaN</td>\n",
       "      <td>$4.45</td>\n",
       "    </tr>\n",
       "    <tr>\n",
       "      <th>4617</th>\n",
       "      <td>1833</td>\n",
       "      <td>1</td>\n",
       "      <td>Steak Burrito</td>\n",
       "      <td>[Fresh Tomato Salsa, [Rice, Black Beans, Sour ...</td>\n",
       "      <td>$11.75</td>\n",
       "    </tr>\n",
       "    <tr>\n",
       "      <th>4618</th>\n",
       "      <td>1833</td>\n",
       "      <td>1</td>\n",
       "      <td>Steak Burrito</td>\n",
       "      <td>[Fresh Tomato Salsa, [Rice, Sour Cream, Cheese...</td>\n",
       "      <td>$11.75</td>\n",
       "    </tr>\n",
       "    <tr>\n",
       "      <th>4619</th>\n",
       "      <td>1834</td>\n",
       "      <td>1</td>\n",
       "      <td>Chicken Salad Bowl</td>\n",
       "      <td>[Fresh Tomato Salsa, [Fajita Vegetables, Pinto...</td>\n",
       "      <td>$11.25</td>\n",
       "    </tr>\n",
       "    <tr>\n",
       "      <th>4620</th>\n",
       "      <td>1834</td>\n",
       "      <td>1</td>\n",
       "      <td>Chicken Salad Bowl</td>\n",
       "      <td>[Fresh Tomato Salsa, [Fajita Vegetables, Lettu...</td>\n",
       "      <td>$8.75</td>\n",
       "    </tr>\n",
       "    <tr>\n",
       "      <th>4621</th>\n",
       "      <td>1834</td>\n",
       "      <td>1</td>\n",
       "      <td>Chicken Salad Bowl</td>\n",
       "      <td>[Fresh Tomato Salsa, [Fajita Vegetables, Pinto...</td>\n",
       "      <td>$8.75</td>\n",
       "    </tr>\n",
       "  </tbody>\n",
       "</table>\n",
       "</div>"
      ],
      "text/plain": [
       "      order_id  quantity            item_name  \\\n",
       "4612      1831         1        Carnitas Bowl   \n",
       "4613      1831         1                Chips   \n",
       "4614      1831         1        Bottled Water   \n",
       "4615      1832         1   Chicken Soft Tacos   \n",
       "4616      1832         1  Chips and Guacamole   \n",
       "4617      1833         1        Steak Burrito   \n",
       "4618      1833         1        Steak Burrito   \n",
       "4619      1834         1   Chicken Salad Bowl   \n",
       "4620      1834         1   Chicken Salad Bowl   \n",
       "4621      1834         1   Chicken Salad Bowl   \n",
       "\n",
       "                                     choice_description item_price  \n",
       "4612  [Fresh Tomato Salsa, [Fajita Vegetables, Rice,...     $9.25   \n",
       "4613                                                NaN     $2.15   \n",
       "4614                                                NaN     $1.50   \n",
       "4615   [Fresh Tomato Salsa, [Rice, Cheese, Sour Cream]]     $8.75   \n",
       "4616                                                NaN     $4.45   \n",
       "4617  [Fresh Tomato Salsa, [Rice, Black Beans, Sour ...    $11.75   \n",
       "4618  [Fresh Tomato Salsa, [Rice, Sour Cream, Cheese...    $11.75   \n",
       "4619  [Fresh Tomato Salsa, [Fajita Vegetables, Pinto...    $11.25   \n",
       "4620  [Fresh Tomato Salsa, [Fajita Vegetables, Lettu...     $8.75   \n",
       "4621  [Fresh Tomato Salsa, [Fajita Vegetables, Pinto...     $8.75   "
      ]
     },
     "execution_count": 5,
     "metadata": {},
     "output_type": "execute_result"
    }
   ],
   "source": [
    "import csv\n",
    "\n",
    "orders_data = pd.read_csv(open('orders.csv'))\n",
    "orders_data.tail(10)"
   ]
  },
  {
   "cell_type": "code",
   "execution_count": 6,
   "metadata": {},
   "outputs": [
    {
     "name": "stdout",
     "output_type": "stream",
     "text": [
      "(rows, columns):  (4622, 5)\n",
      "\n",
      "fields:\n",
      "order_id               int64\n",
      "quantity               int64\n",
      "item_name             object\n",
      "choice_description    object\n",
      "item_price            object\n"
     ]
    }
   ],
   "source": [
    "print(\"(rows, columns): \", orders_data.shape)\n",
    "print()\n",
    "print(\"fields:\")\n",
    "print(orders_data.dtypes.to_string(header=None))"
   ]
  },
  {
   "cell_type": "markdown",
   "metadata": {},
   "source": [
    "#### 2. [0.25 баллов] Ответьте на вопросы:\n",
    "1. Сколько заказов попало в выборку?\n",
    "2. Сколько уникальных категорий товара было куплено? (item_name)"
   ]
  },
  {
   "cell_type": "code",
   "execution_count": 7,
   "metadata": {},
   "outputs": [
    {
     "name": "stdout",
     "output_type": "stream",
     "text": [
      "total orders count:  1834\n",
      "total items count:  50\n"
     ]
    }
   ],
   "source": [
    "print(\"total orders count: \", len(orders_data.order_id.unique()))\n",
    "print(\"total items count: \", len(orders_data.item_name.unique()))"
   ]
  },
  {
   "cell_type": "markdown",
   "metadata": {},
   "source": [
    "#### 3. [0.25 баллов] Есть ли в данных пропуски? В каких колонках? "
   ]
  },
  {
   "cell_type": "code",
   "execution_count": 8,
   "metadata": {},
   "outputs": [
    {
     "name": "stdout",
     "output_type": "stream",
     "text": [
      "choice_description    1246\n"
     ]
    }
   ],
   "source": [
    "print(orders_data[orders_data.columns[orders_data.isnull().any()]].isnull().sum().to_string(header=None))"
   ]
  },
  {
   "cell_type": "markdown",
   "metadata": {},
   "source": [
    "Заполните пропуски пустой строкой для строковых колонок и нулём для числовых."
   ]
  },
  {
   "cell_type": "code",
   "execution_count": 9,
   "metadata": {},
   "outputs": [],
   "source": [
    "orders_data.choice_description = orders_data.choice_description.fillna(\"\")"
   ]
  },
  {
   "cell_type": "markdown",
   "metadata": {},
   "source": [
    "#### 4. [0.5 баллов] Посмотрите внимательнее на колонку с ценой товара. Какого она типа? Создайте новую колонку так, чтобы в ней цена была числом.\n",
    "\n",
    "Для этого попробуйте применить функцию-преобразование к каждой строке вашей таблицы (для этого есть соответствующая функция)."
   ]
  },
  {
   "cell_type": "code",
   "execution_count": 10,
   "metadata": {},
   "outputs": [],
   "source": [
    "orders_data[\"item_float_price\"] = orders_data.item_price.replace('[\\$,]', '', regex=True).astype(float)"
   ]
  },
  {
   "cell_type": "markdown",
   "metadata": {},
   "source": [
    "Какая средняя/минимальная/максимальная цена у товара? "
   ]
  },
  {
   "cell_type": "code",
   "execution_count": 11,
   "metadata": {},
   "outputs": [
    {
     "name": "stdout",
     "output_type": "stream",
     "text": [
      "min price: 1.09\n",
      "max price: 44.25\n",
      "average price: 7.464335785374297\n"
     ]
    }
   ],
   "source": [
    "print(\"min price:\", orders_data.item_float_price.min())\n",
    "print(\"max price:\", orders_data.item_float_price.max())\n",
    "print(\"average price:\", orders_data.item_float_price.mean())"
   ]
  },
  {
   "cell_type": "markdown",
   "metadata": {},
   "source": [
    "Удалите старую колонку с ценой."
   ]
  },
  {
   "cell_type": "code",
   "execution_count": 12,
   "metadata": {},
   "outputs": [],
   "source": [
    "orders_data = orders_data.drop(columns=['item_price'])"
   ]
  },
  {
   "cell_type": "markdown",
   "metadata": {},
   "source": [
    "#### 5. [0.25 баллов] Какие 5 товаров были самыми дешёвыми и самыми дорогими? (по choice_description)\n",
    "\n",
    "Для этого будет удобно избавиться от дубликатов и отсортировать товары. Не забудьте про количество товара."
   ]
  },
  {
   "cell_type": "code",
   "execution_count": 13,
   "metadata": {},
   "outputs": [
    {
     "name": "stdout",
     "output_type": "stream",
     "text": [
      "top5 expensive items: ['Bottled Water' 'Canned Soda' 'Canned Soft Drink' 'Side of Chips' 'Chips']\n",
      "top5 cheap items: ['Carnitas Soft Tacos' 'Barbacoa Soft Tacos' 'Barbacoa Salad Bowl'\n",
      " 'Steak Salad Bowl' 'Carnitas Salad Bowl']\n"
     ]
    }
   ],
   "source": [
    "print(\"top5 expensive items:\", orders_data.sort_values(by=[\"item_float_price\"]).item_name.unique()[:5])\n",
    "print(\"top5 cheap items:\", orders_data.sort_values(by=[\"item_float_price\"]).item_name.unique()[-5:])"
   ]
  },
  {
   "cell_type": "markdown",
   "metadata": {},
   "source": [
    "#### 6. [0.5 баллов] Сколько раз клиенты покупали больше 1 Chicken Bowl (item_name)?"
   ]
  },
  {
   "cell_type": "code",
   "execution_count": 14,
   "metadata": {},
   "outputs": [
    {
     "name": "stdout",
     "output_type": "stream",
     "text": [
      "cases with more than one Chicken Bowl: 33\n"
     ]
    }
   ],
   "source": [
    "print(\n",
    "    \"cases with more than one Chicken Bowl:\",\n",
    "    len(orders_data.loc[orders_data.item_name == \"Chicken Bowl\"].loc[orders_data.quantity > 1])\n",
    ")"
   ]
  },
  {
   "cell_type": "markdown",
   "metadata": {},
   "source": [
    "#### 7. [0.5 баллов] Какой средний чек у заказа? Сколько в среднем товаров покупают?\n",
    "\n",
    "Если необходимо провести вычисления в терминах заказов, то будет удобно сгруппировать строки по заказам и посчитать необходимые статистики."
   ]
  },
  {
   "cell_type": "code",
   "execution_count": 15,
   "metadata": {},
   "outputs": [
    {
     "name": "stdout",
     "output_type": "stream",
     "text": [
      "quantity             2.711014\n",
      "item_float_price    18.811429\n"
     ]
    }
   ],
   "source": [
    "print(orders_data.groupby(\"order_id\").sum().mean().to_string(header=None))"
   ]
  },
  {
   "cell_type": "markdown",
   "metadata": {},
   "source": [
    "#### 8. [0.25 баллов] Сколько заказов содержали ровно 1 товар?"
   ]
  },
  {
   "cell_type": "code",
   "execution_count": 16,
   "metadata": {},
   "outputs": [
    {
     "name": "stdout",
     "output_type": "stream",
     "text": [
      "orders with 1 item count: 56\n"
     ]
    }
   ],
   "source": [
    "print(\n",
    "    \"orders with 1 item count:\",\n",
    "    len(orders_data.groupby(\"order_id\").sum().loc[orders_data.groupby(\"order_id\").sum().quantity == 1])\n",
    ")"
   ]
  },
  {
   "cell_type": "markdown",
   "metadata": {},
   "source": [
    "#### 9. [0.25 баллов] Какая самая популярная категория товара? "
   ]
  },
  {
   "cell_type": "code",
   "execution_count": 17,
   "metadata": {},
   "outputs": [
    {
     "name": "stdout",
     "output_type": "stream",
     "text": [
      "most popular item: Chicken Bowl    761\n"
     ]
    }
   ],
   "source": [
    "print(\n",
    "    \"most popular item:\",\n",
    "    orders_data.groupby(\"item_name\").sum().quantity.sort_values()[-1:].to_string(header=None)\n",
    ")"
   ]
  },
  {
   "cell_type": "markdown",
   "metadata": {},
   "source": [
    "#### 10. [0.5 баллов] Какие виды Burrito существуют? Какой из них чаще всего покупают? Какой из них самый дорогой? "
   ]
  },
  {
   "cell_type": "code",
   "execution_count": 18,
   "metadata": {},
   "outputs": [
    {
     "name": "stdout",
     "output_type": "stream",
     "text": [
      "existed Burritos:\n"
     ]
    },
    {
     "data": {
      "text/plain": [
       "array(['Steak Burrito', 'Chicken Burrito', 'Barbacoa Burrito',\n",
       "       'Carnitas Burrito', 'Veggie Burrito', 'Burrito'], dtype=object)"
      ]
     },
     "execution_count": 18,
     "metadata": {},
     "output_type": "execute_result"
    }
   ],
   "source": [
    "print(\"existed Burritos:\")\n",
    "\n",
    "orders_data[orders_data.item_name.map(\n",
    "    lambda x : x.find('Burrito') != -1\n",
    ")].item_name.unique()"
   ]
  },
  {
   "cell_type": "code",
   "execution_count": 19,
   "metadata": {},
   "outputs": [
    {
     "name": "stdout",
     "output_type": "stream",
     "text": [
      "most popular Burrito:\n"
     ]
    },
    {
     "data": {
      "text/html": [
       "<div>\n",
       "<style scoped>\n",
       "    .dataframe tbody tr th:only-of-type {\n",
       "        vertical-align: middle;\n",
       "    }\n",
       "\n",
       "    .dataframe tbody tr th {\n",
       "        vertical-align: top;\n",
       "    }\n",
       "\n",
       "    .dataframe thead th {\n",
       "        text-align: right;\n",
       "    }\n",
       "</style>\n",
       "<table border=\"1\" class=\"dataframe\">\n",
       "  <thead>\n",
       "    <tr style=\"text-align: right;\">\n",
       "      <th></th>\n",
       "      <th>quantity</th>\n",
       "    </tr>\n",
       "    <tr>\n",
       "      <th>item_name</th>\n",
       "      <th></th>\n",
       "    </tr>\n",
       "  </thead>\n",
       "  <tbody>\n",
       "    <tr>\n",
       "      <th>Chicken Burrito</th>\n",
       "      <td>591</td>\n",
       "    </tr>\n",
       "  </tbody>\n",
       "</table>\n",
       "</div>"
      ],
      "text/plain": [
       "                 quantity\n",
       "item_name                \n",
       "Chicken Burrito       591"
      ]
     },
     "execution_count": 19,
     "metadata": {},
     "output_type": "execute_result"
    }
   ],
   "source": [
    "print(\"most popular Burrito:\")\n",
    "\n",
    "orders_data[orders_data.item_name.map(\n",
    "    lambda x : x.find('Burrito') != -1\n",
    ")].groupby(\"item_name\").sum().sort_values(by=\"quantity\").drop(\n",
    "    columns=[\"order_id\", \"item_float_price\"]\n",
    ")[-1:]"
   ]
  },
  {
   "cell_type": "code",
   "execution_count": 20,
   "metadata": {},
   "outputs": [
    {
     "name": "stdout",
     "output_type": "stream",
     "text": [
      "most expensive Burrito:\n"
     ]
    },
    {
     "data": {
      "text/html": [
       "<div>\n",
       "<style scoped>\n",
       "    .dataframe tbody tr th:only-of-type {\n",
       "        vertical-align: middle;\n",
       "    }\n",
       "\n",
       "    .dataframe tbody tr th {\n",
       "        vertical-align: top;\n",
       "    }\n",
       "\n",
       "    .dataframe thead th {\n",
       "        text-align: right;\n",
       "    }\n",
       "</style>\n",
       "<table border=\"1\" class=\"dataframe\">\n",
       "  <thead>\n",
       "    <tr style=\"text-align: right;\">\n",
       "      <th></th>\n",
       "      <th>item_float_price</th>\n",
       "    </tr>\n",
       "    <tr>\n",
       "      <th>item_name</th>\n",
       "      <th></th>\n",
       "    </tr>\n",
       "  </thead>\n",
       "  <tbody>\n",
       "    <tr>\n",
       "      <th>Chicken Burrito</th>\n",
       "      <td>35.0</td>\n",
       "    </tr>\n",
       "  </tbody>\n",
       "</table>\n",
       "</div>"
      ],
      "text/plain": [
       "                 item_float_price\n",
       "item_name                        \n",
       "Chicken Burrito              35.0"
      ]
     },
     "execution_count": 20,
     "metadata": {},
     "output_type": "execute_result"
    }
   ],
   "source": [
    "\n",
    "print(\"most expensive Burrito:\")\n",
    "orders_data[orders_data.item_name.map(\n",
    "    lambda x : x.find('Burrito') != -1\n",
    ")].groupby(\"item_name\").max().sort_values(by=\"item_float_price\").drop(\n",
    "    columns=[\"choice_description\", \"order_id\", \"quantity\"]\n",
    ")[-1:]"
   ]
  },
  {
   "cell_type": "markdown",
   "metadata": {
    "collapsed": true
   },
   "source": [
    "#### 11. [0.75 баллов] В каком количестве заказов есть товар, который стоит более 40% от суммы всего чека?\n",
    "\n",
    "Возможно, будет удобно посчитать отдельно средний чек, добавить его в исходные данные и сделать необходимые проверки."
   ]
  },
  {
   "cell_type": "code",
   "execution_count": 21,
   "metadata": {},
   "outputs": [
    {
     "name": "stdout",
     "output_type": "stream",
     "text": [
      "count of orders with item > 40%: 1624\n"
     ]
    }
   ],
   "source": [
    "grouped_orders = orders_data.groupby(\"order_id\").sum()\n",
    "\n",
    "part_from_total = orders_data['item_float_price'] / orders_data['order_id'].map(\n",
    "    lambda x : grouped_orders.loc[x, ['item_float_price']][0]\n",
    ")\n",
    "print('count of orders with item > 40%:', len(orders_data[part_from_total > 0.4].groupby('order_id').sum()))"
   ]
  },
  {
   "cell_type": "markdown",
   "metadata": {},
   "source": [
    "#### 12. [0.75 баллов] Предположим, что в данных была ошибка и Diet Coke (choice_description), который стоил $1.25, должен был стоить 1.35. Скорректируйте данные в таблицы и посчитайте, на какой процент больше денег было заработано с этого товара. Не забывайте, что количество товара не всегда равно 1."
   ]
  },
  {
   "cell_type": "code",
   "execution_count": 22,
   "metadata": {},
   "outputs": [
    {
     "name": "stdout",
     "output_type": "stream",
     "text": [
      "delta in per cent: 8.000000000000005\n"
     ]
    }
   ],
   "source": [
    "diet_cokes = orders_data[orders_data.choice_description == \"[Diet Coke]\"]\n",
    "wrong_diet_cokes = diet_cokes[diet_cokes.item_float_price == 1.25]\n",
    "delta = wrong_diet_cokes.sum().quantity * 1.35 - wrong_diet_cokes.sum().quantity * 1.25\n",
    "delta_in_per_cent = delta / wrong_diet_cokes.sum().quantity / 1.25 * 100\n",
    "print(\"delta in per cent:\", delta_in_per_cent)"
   ]
  },
  {
   "cell_type": "markdown",
   "metadata": {},
   "source": [
    "#### 13. [0.75 баллов] Создайте новый DateFrame из матрицы, созданной ниже. Назовите колонки index, column1, column2 и сделайте первую колонку индексом."
   ]
  },
  {
   "cell_type": "code",
   "execution_count": 23,
   "metadata": {},
   "outputs": [],
   "source": [
    "random_data = pd.DataFrame(np.random.rand(10, 3), columns=[\"index\", \"column1\", \"column2\"])\n",
    "random_data = random_data.set_index(\"index\")"
   ]
  },
  {
   "cell_type": "markdown",
   "metadata": {},
   "source": [
    "Сохраните DataFrame на диск в формате csv без индексов и названий столбцов."
   ]
  },
  {
   "cell_type": "code",
   "execution_count": 24,
   "metadata": {},
   "outputs": [],
   "source": [
    "random_data.to_csv(\"random_data.csv\", header=False, index=False)"
   ]
  },
  {
   "cell_type": "markdown",
   "metadata": {},
   "source": [
    "## 2. Визуализации и matplotlib"
   ]
  },
  {
   "cell_type": "markdown",
   "metadata": {},
   "source": [
    "При работе с данными часто неудобно делать какие-то выводы, если смотреть на таблицу и числа в частности, поэтому важно уметь визуализировать данные. В этом разделе мы этим и займёмся.\n",
    "\n",
    "У matplotlib, конечно, же есть [документация](https://matplotlib.org/users/index.html) с большим количеством [примеров](https://matplotlib.org/examples/), но для начала достаточно знать про несколько основных типов графиков:\n",
    "- plot — обычный поточечный график, которым можно изображать кривые или отдельные точки;\n",
    "- hist — гистограмма, показывающая распределение некоторое величины;\n",
    "- scatter — график, показывающий взаимосвязь двух величин;\n",
    "- bar — столбцовый график, показывающий взаимосвязь количественной величины от категориальной.\n",
    "\n",
    "В этом задании вы попробуете построить каждый из них. Не менее важно усвоить базовые принципы визуализаций:\n",
    "- на графиках должны быть подписаны оси;\n",
    "- у визуализации должно быть название;\n",
    "- если изображено несколько графиков, то необходима поясняющая легенда;\n",
    "- все линии на графиках должны быть чётко видны (нет похожих цветов или цветов, сливающихся с фоном);\n",
    "- если отображена величина, имеющая очевидный диапазон значений (например, проценты могут быть от 0 до 100), то желательно масштабировать ось на весь диапазон значений (исключением является случай, когда вам необходимо показать малое отличие, которое незаметно в таких масштабах)."
   ]
  },
  {
   "cell_type": "code",
   "execution_count": 25,
   "metadata": {},
   "outputs": [],
   "source": [
    "%matplotlib inline\n",
    "import matplotlib.pyplot as plt"
   ]
  },
  {
   "cell_type": "markdown",
   "metadata": {},
   "source": [
    "На самом деле мы уже импортировали matplotlib внутри %pylab inline в начале задания.\n",
    "\n",
    "Работать мы будем с той же выборкой покупкок. Добавим новую колонку с датой покупки."
   ]
  },
  {
   "cell_type": "code",
   "execution_count": 26,
   "metadata": {},
   "outputs": [],
   "source": [
    "import datetime\n",
    "\n",
    "start = datetime.datetime(2018, 1, 1)\n",
    "end = datetime.datetime(2018, 1, 31)\n",
    "delta_seconds = int((end - start).total_seconds())\n",
    "\n",
    "dates = pd.DataFrame(index=orders_data.order_id.unique())\n",
    "dates['date'] = [\n",
    "    (start + datetime.timedelta(seconds=random.randint(0, delta_seconds))).strftime('%Y-%m-%d')\n",
    "    for _ in range(orders_data.order_id.nunique())\n",
    "]\n",
    "\n",
    "# если DataFrame с покупками из прошлого заказа называется не df, замените на ваше название ниже\n",
    "orders_data['date'] = orders_data.order_id.map(dates['date'])"
   ]
  },
  {
   "cell_type": "markdown",
   "metadata": {},
   "source": [
    "#### 1. [1 балл] Постройте гистограмму распределения сумм покупок и гистограмму средних цен отдельных видов продуктов item_name. \n",
    "\n",
    "Изображайте на двух соседних графиках. Для этого может быть полезен subplot."
   ]
  },
  {
   "cell_type": "code",
   "execution_count": 27,
   "metadata": {},
   "outputs": [
    {
     "data": {
      "image/png": "[encoded data removed]",
      "text/plain": [
       "<matplotlib.figure.Figure at 0x1080f4908>"
      ]
     },
     "metadata": {},
     "output_type": "display_data"
    }
   ],
   "source": [
    "_, (left, right) = plt.subplots(1, 2, figsize=(20, 5))\n",
    "left.hist(\n",
    "    orders_data.groupby('order_id').sum()['item_float_price'],\n",
    "    bins=len(orders_data.groupby('order_id').sum()['item_float_price']) // 4\n",
    ")\n",
    "items = orders_data.groupby('item_name').sum()\n",
    "items['average_price'] = items['item_float_price'] / items['quantity']\n",
    "right.hist(items.groupby(\"item_name\").sum().average_price, bins=70)\n",
    "\n",
    "plt.show()"
   ]
  },
  {
   "cell_type": "markdown",
   "metadata": {},
   "source": [
    "#### 2. [1 балл] Постройте график зависимости суммы покупок от дней."
   ]
  },
  {
   "cell_type": "code",
   "execution_count": 28,
   "metadata": {},
   "outputs": [
    {
     "data": {
      "image/png": "[encoded data removed]",
      "text/plain": [
       "<matplotlib.figure.Figure at 0x1080f4f28>"
      ]
     },
     "metadata": {},
     "output_type": "display_data"
    }
   ],
   "source": [
    "plt.figure(figsize=(10,5))\n",
    "plt.plot(orders_data.groupby(\"date\").sum().item_float_price)\n",
    "plt.xticks(rotation=45)\n",
    "plt.show()"
   ]
  },
  {
   "cell_type": "markdown",
   "metadata": {},
   "source": [
    "\n",
    "#### 3. [1 балл] Постройте средних сумм покупок по дням недели (bar plot)."
   ]
  },
  {
   "cell_type": "code",
   "execution_count": 29,
   "metadata": {},
   "outputs": [
    {
     "data": {
      "image/png": "[encoded data removed]",
      "text/plain": [
       "<matplotlib.figure.Figure at 0x10862b550>"
      ]
     },
     "metadata": {},
     "output_type": "display_data"
    }
   ],
   "source": [
    "from datetime import datetime\n",
    "from dateutil.parser import parse\n",
    "\n",
    "orders_data[\"week_day\"] = orders_data[\"date\"].map(lambda x : datetime.strptime(x, '%Y-%m-%d').weekday())\n",
    "orders_data[\"full_sum\"] = orders_data[\"item_float_price\"] * orders_data[\"quantity\"]\n",
    "average_week_days = orders_data.groupby(\"week_day\").mean()\n",
    "\n",
    "plt.bar(np.arange(7), average_week_days['full_sum'])\n",
    "plt.xlabel(\"week_day\")\n",
    "plt.show()"
   ]
  },
  {
   "cell_type": "markdown",
   "metadata": {},
   "source": [
    "#### 4. [1 балл] Постройте график зависимости денег за товар от купленного количества (scatter plot)."
   ]
  },
  {
   "cell_type": "code",
   "execution_count": 30,
   "metadata": {},
   "outputs": [
    {
     "data": {
      "image/png": "[encoded data removed]",
      "text/plain": [
       "<matplotlib.figure.Figure at 0x108701080>"
      ]
     },
     "metadata": {},
     "output_type": "display_data"
    }
   ],
   "source": [
    "prices = orders_data.item_float_price.sort_values()\n",
    "quantities = orders_data.quantity.sort_values()\n",
    "\n",
    "plt.figure(figsize=(10,5))\n",
    "plt.scatter(prices, quantities)\n",
    "plt.xlabel('price')\n",
    "plt.ylabel('quantity')\n",
    "plt.autoscale()\n",
    "plt.show()"
   ]
  },
  {
   "cell_type": "markdown",
   "metadata": {},
   "source": [
    "Сохраните график в формате pdf (так он останется векторизованным)."
   ]
  },
  {
   "cell_type": "code",
   "execution_count": 31,
   "metadata": {},
   "outputs": [
    {
     "data": {
      "text/plain": [
       "<matplotlib.figure.Figure at 0x108878860>"
      ]
     },
     "metadata": {},
     "output_type": "display_data"
    }
   ],
   "source": [
    " plt.savefig(\"price_by_quantity.pdf\", bbox_inches='tight')"
   ]
  },
  {
   "cell_type": "markdown",
   "metadata": {},
   "source": [
    "Кстати, существует надстройка над matplotlib под названием [seaborn](https://jakevdp.github.io/PythonDataScienceHandbook/04.14-visualization-with-seaborn.html). Иногда удобнее и красивее делать визуализации через неё. "
   ]
  }
 ],
 "metadata": {
  "kernel_info": {
   "name": "py36"
  },
  "kernelspec": {
   "display_name": "Python 3",
   "language": "python",
   "name": "python3"
  },
  "language_info": {
   "codemirror_mode": {
    "name": "ipython",
    "version": 3
   },
   "file_extension": ".py",
   "mimetype": "text/x-python",
   "name": "python",
   "nbconvert_exporter": "python",
   "pygments_lexer": "ipython3",
   "version": "3.6.5"
  },
  "nteract": {
   "version": "0.11.6"
  }
 },
 "nbformat": 4,
 "nbformat_minor": 2
}
