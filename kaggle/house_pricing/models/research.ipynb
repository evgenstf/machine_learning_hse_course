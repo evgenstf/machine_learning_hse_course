{
 "cells": [
  {
   "cell_type": "code",
   "execution_count": 1,
   "metadata": {},
   "outputs": [],
   "source": [
    "import sys\n",
    "%load_ext autoreload\n",
    "%autoreload 2\n",
    "sys.path.append(\"../base\")\n",
    "sys.path.append(\"../data_provider\")\n",
    "sys.path.append(\"../models\")\n",
    "from common import *\n",
    "from data_provider import DataProvider\n",
    "import simple_linear_regression as simple_lr\n",
    "import lasso_linear_regression as lasso_lr\n",
    "import ridge_linear_regression as ridge_lr\n",
    "import catboost_regression as catboost_r\n",
    "\n",
    "data_provider = DataProvider()\n",
    "x_raw = data_provider.x_raw\n",
    "y_raw = data_provider.y_raw"
   ]
  },
  {
   "cell_type": "code",
   "execution_count": null,
   "metadata": {},
   "outputs": [],
   "source": []
  }
 ],
 "metadata": {
  "kernelspec": {
   "display_name": "Python 3",
   "language": "python",
   "name": "python3"
  },
  "language_info": {
   "codemirror_mode": {
    "name": "ipython",
    "version": 3
   },
   "file_extension": ".py",
   "mimetype": "text/x-python",
   "name": "python",
   "nbconvert_exporter": "python",
   "pygments_lexer": "ipython3",
   "version": "3.7.0"
  }
 },
 "nbformat": 4,
 "nbformat_minor": 2
}
