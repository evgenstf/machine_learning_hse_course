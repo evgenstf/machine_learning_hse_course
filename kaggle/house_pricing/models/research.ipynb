{
 "cells": [
  {
   "cell_type": "code",
   "execution_count": 11,
   "metadata": {},
   "outputs": [
    {
     "name": "stdout",
     "output_type": "stream",
     "text": [
      "The autoreload extension is already loaded. To reload it, use:\n",
      "  %reload_ext autoreload\n"
     ]
    }
   ],
   "source": [
    "import sys\n",
    "%load_ext autoreload\n",
    "%autoreload 2\n",
    "sys.path.append(\"../base\")\n",
    "sys.path.append(\"../data_provider\")\n",
    "sys.path.append(\"../models\")\n",
    "from common import *\n",
    "from data_provider import DataProvider\n",
    "from predictor import Predictor\n",
    "import simple_linear_regression as simple_lr\n",
    "import lasso_linear_regression as lasso_lr\n",
    "import ridge_linear_regression as ridge_lr\n",
    "\n",
    "data_provider = DataProvider()\n",
    "x_train = data_provider.x_train\n",
    "y_train = data_provider.y_train\n",
    "x_control_test = data_provider.x_control_test\n",
    "y_raw = data_provider.y_control_test"
   ]
  },
  {
   "cell_type": "code",
   "execution_count": 75,
   "metadata": {},
   "outputs": [
    {
     "name": "stdout",
     "output_type": "stream",
     "text": [
      "processed 0 / 6613\n",
      "all data processed. processing predictions.\n",
      "loss_value: 0.13541111405305142 index: 5\n",
      "loss_value: 0.10124685770365713 index: 6\n",
      "loss_value: 0.24944310583217147 index: 7\n",
      "loss_value: 0.23321678371324533 index: 9\n",
      "bad_cnt: 4\n",
      "train mape score: 10.424309508191765\n",
      "finished\n"
     ]
    }
   ],
   "source": [
    "def test_ridge_model():\n",
    "    train_predictions = []\n",
    "    x_control_test = data_provider.x_control_test\n",
    "    for i in range(10):\n",
    "        predictor = Predictor(ridge_lr.build_model(), data_provider)\n",
    "        prediction = predictor.predict(x_control_test[i : i + 1])[0]\n",
    "        train_predictions.append(predictor.predict(x_control_test[i : i + 1])[0])\n",
    "        if i % 10 == 0:\n",
    "            print(\"processed\", i, \"/\", len(x_control_test))\n",
    "    print(\"all data processed. processing predictions.\")\n",
    "    train_predictions = data_provider.process_prediction(train_predictions)\n",
    "    print(\"train mape score:\", mape_score(y_raw[:len(train_predictions)], train_predictions))\n",
    "    print(\"finished\")\n",
    "    answer_file = open(\"result.csv\", \"w\")\n",
    "    answer_file.write(\"Id,Price\\n\")\n",
    "    for i in range(len(train_predictions)):\n",
    "        answer_file.write(\"%s,%s\\n\" % (i + 1, train_predictions[i]))\n",
    "    \n",
    "test_ridge_model()"
   ]
  },
  {
   "cell_type": "code",
   "execution_count": 9,
   "metadata": {},
   "outputs": [
    {
     "name": "stderr",
     "output_type": "stream",
     "text": [
      "../base/common.py:29: FutureWarning: Method .as_matrix will be removed in a future version. Use .values instead.\n",
      "  for i in range(len(y_data.as_matrix())):\n",
      "../base/common.py:30: FutureWarning: Method .as_matrix will be removed in a future version. Use .values instead.\n",
      "  loss_value = np.abs((2 ** y_data.as_matrix()[i][0] - 2 ** prediction[i]) / (2 **\n",
      "../base/common.py:31: FutureWarning: Method .as_matrix will be removed in a future version. Use .values instead.\n",
      "  y_data.as_matrix()[i][0]))\n",
      "/usr/local/lib/python3.7/site-packages/matplotlib/figure.py:448: UserWarning: Matplotlib is currently using module://ipykernel.pylab.backend_inline, which is a non-GUI backend, so cannot show the figure.\n",
      "  % get_backend())\n"
     ]
    },
    {
     "data": {
      "image/png": "[encoded data removed]",
      "text/plain": [
       "<Figure size 936x360 with 1 Axes>"
      ]
     },
     "metadata": {},
     "output_type": "display_data"
    }
   ],
   "source": [
    "def draw_ridge_alpha_correlation():\n",
    "    scores_train = []\n",
    "    scores_test = []\n",
    "    alpha_values = np.arange(0.001, 200, 10)\n",
    "    for alpha_value in alpha_values:\n",
    "        regression = ridge_lr.build_model_with_custom_alpha(alpha=alpha_value)\n",
    "        regression.fit(x_train, y_train)\n",
    "        train_prediction = regression.predict(x_train)\n",
    "        scores_train.append(mape_score(y_train, train_prediction))\n",
    "        \n",
    "    f, (ax2) = plt.subplots(1, 1, figsize=(13, 5))\n",
    "\n",
    "    ax2.plot(alpha_values, scores_train, label=u\"train score\")\n",
    "    ax2.set_title(u\"train and test score correlation by alpha value in Ridge regression\")\n",
    "    ax2.set_xlabel(u\"alpha value\")\n",
    "    ax2.set_ylabel(u\"score\")\n",
    "    ax2.grid()\n",
    "    ax2.legend()\n",
    "\n",
    "    f.show()    \n",
    "draw_ridge_alpha_correlation()"
   ]
  },
  {
   "cell_type": "code",
   "execution_count": null,
   "metadata": {},
   "outputs": [],
   "source": [
    "def draw_ridge_alpha_correlation():\n",
    "    scores_train = []\n",
    "    scores_test = []\n",
    "    alpha_values = np.arange(0.001, 200, 10)\n",
    "    for alpha_value in alpha_values:\n",
    "        regression = lasso_lr.build_model_with_custom_alpha(alpha=alpha_value)\n",
    "        regression.fit(x_train, y_train)\n",
    "        train_prediction = regression.predict(x_train)\n",
    "        scores_train.append(mape_score(y_train, train_prediction))\n",
    "        \n",
    "    f, (ax2) = plt.subplots(1, 1, figsize=(13, 5))\n",
    "\n",
    "    ax2.plot(alpha_values, scores_train, label=u\"train score\")\n",
    "    ax2.set_title(u\"train and test score correlation by alpha value in Ridge regression\")\n",
    "    ax2.set_xlabel(u\"alpha value\")\n",
    "    ax2.set_ylabel(u\"score\")\n",
    "    ax2.grid()\n",
    "    ax2.legend()\n",
    "\n",
    "    f.show()    \n",
    "draw_ridge_alpha_correlation()"
   ]
  },
  {
   "cell_type": "code",
   "execution_count": 17,
   "metadata": {},
   "outputs": [
    {
     "name": "stdout",
     "output_type": "stream",
     "text": [
      "processed 0 / 6613\n",
      "processed 2 / 6613\n",
      "processed 4 / 6613\n",
      "processed 6 / 6613\n",
      "processed 8 / 6613\n",
      "processed 10 / 6613\n",
      "processed 12 / 6613\n",
      "processed 14 / 6613\n",
      "processed 16 / 6613\n",
      "processed 18 / 6613\n",
      "processed 20 / 6613\n",
      "processed 22 / 6613\n",
      "processed 24 / 6613\n",
      "processed 26 / 6613\n",
      "processed 28 / 6613\n",
      "processed 30 / 6613\n",
      "processed 32 / 6613\n",
      "processed 34 / 6613\n",
      "processed 36 / 6613\n",
      "processed 38 / 6613\n",
      "processed 40 / 6613\n",
      "processed 42 / 6613\n",
      "processed 44 / 6613\n",
      "processed 46 / 6613\n",
      "processed 48 / 6613\n",
      "loss_value: [[0.1145]] index: 5\n",
      "loss_value: [[0.11787365]] index: 6\n",
      "loss_value: [[0.21463415]] index: 7\n",
      "loss_value: [[0.08669109]] index: 8\n",
      "loss_value: [[0.25126904]] index: 9\n",
      "loss_value: [[0.12]] index: 12\n",
      "loss_value: [[0.15767263]] index: 13\n",
      "loss_value: [[0.16359447]] index: 16\n",
      "loss_value: [[0.615]] index: 18\n",
      "loss_value: [[0.1374026]] index: 19\n",
      "loss_value: [[0.19305311]] index: 20\n",
      "loss_value: [[0.10598726]] index: 21\n",
      "loss_value: [[0.10000154]] index: 22\n",
      "loss_value: [[0.10679612]] index: 23\n",
      "loss_value: [[0.15244755]] index: 29\n",
      "loss_value: [[0.21343826]] index: 30\n",
      "loss_value: [[0.08666667]] index: 31\n",
      "loss_value: [[0.37012987]] index: 37\n",
      "loss_value: [[0.14253521]] index: 39\n",
      "loss_value: [[0.08595099]] index: 42\n",
      "loss_value: [[0.09445277]] index: 43\n",
      "loss_value: [[0.26951613]] index: 44\n",
      "loss_value: [[0.08393548]] index: 45\n",
      "loss_value: [[0.13970588]] index: 46\n",
      "loss_value: [[0.24285714]] index: 47\n",
      "loss_value: [[0.31682927]] index: 48\n",
      "bad_cnt: 26\n",
      "train mape score: [[10.93675301]]\n"
     ]
    }
   ],
   "source": [
    "import numpy as np\n",
    "import pandas as pd\n",
    "import csv\n",
    "from sklearn.model_selection import train_test_split, GridSearchCV\n",
    "from sklearn.preprocessing import OneHotEncoder\n",
    "from sklearn.linear_model import LinearRegression, Ridge, Lasso, RidgeCV, LassoCV\n",
    "from sklearn.pipeline import Pipeline\n",
    "from sklearn.preprocessing import StandardScaler, MinMaxScaler, PolynomialFeatures, \\\n",
    "    Normalizer, FunctionTransformer, RobustScaler, QuantileTransformer\n",
    "import matplotlib.pyplot as plt\n",
    "import numpy.lib.recfunctions as rf\n",
    "from datetime import datetime as dt\n",
    "\n",
    "%matplotlib inline\n",
    "import warnings\n",
    "warnings.filterwarnings(\"ignore\")\n",
    "\n",
    "answer_file = open(\"result.csv\", \"w\")\n",
    "answer_file.write(\"Id,Price\\n\")\n",
    "\n",
    "train_predictions = []\n",
    "for i in range(50):\n",
    "    test_data = x_control_test[i : i + 1]\n",
    "    test_data = test_data.dropna(axis = 'columns')\n",
    "    columns = list(test_data.columns.values)\n",
    "    x_train, y_train = data_provider.train_data_by_columns(columns)\n",
    "\n",
    "    columns_to_drop = []\n",
    "    for column in test_data.columns.values:\n",
    "        if not column in x_train.columns.values:\n",
    "            columns_to_drop.append(column)\n",
    "    test_data = test_data.drop(columns = columns_to_drop)\n",
    "\n",
    "    columns_to_drop = []\n",
    "    for column in x_train.columns.values:\n",
    "        if not column in test_data.columns.values:\n",
    "            columns_to_drop.append(column)\n",
    "    x_train = x_train.drop(columns = columns_to_drop)\n",
    "    \n",
    "    param_grid = {\n",
    "    }\n",
    "\n",
    "    pipeline = Pipeline([\n",
    "        ('scaler', MinMaxScaler()),\n",
    "        #('polynomial', PolynomialFeatures()),\n",
    "        #('drop_zeros', FunctionTransformer(drop_zeros)),\n",
    "        ('cl', RidgeCV())\n",
    "    ])\n",
    "\n",
    "    grid_searcher = GridSearchCV(pipeline, param_grid=param_grid)\n",
    "    grid_searcher.fit(x_train, y_train)\n",
    "    prediction = data_provider.process_prediction(grid_searcher.predict(test_data))\n",
    "    train_predictions.append(prediction)\n",
    "    answer_file.write(\"%s,%s\\n\" % (i + 1, prediction))\n",
    "    if i % 2 == 0:\n",
    "        print(\"processed\", i, \"/\", len(x_control_test))\n",
    "print(\"train mape score:\", mape_score(y_raw[:len(train_predictions)], train_predictions))"
   ]
  },
  {
   "cell_type": "code",
   "execution_count": null,
   "metadata": {},
   "outputs": [],
   "source": []
  }
 ],
 "metadata": {
  "kernelspec": {
   "display_name": "Python 3",
   "language": "python",
   "name": "python3"
  },
  "language_info": {
   "codemirror_mode": {
    "name": "ipython",
    "version": 3
   },
   "file_extension": ".py",
   "mimetype": "text/x-python",
   "name": "python",
   "nbconvert_exporter": "python",
   "pygments_lexer": "ipython3",
   "version": "3.7.0"
  }
 },
 "nbformat": 4,
 "nbformat_minor": 2
}
