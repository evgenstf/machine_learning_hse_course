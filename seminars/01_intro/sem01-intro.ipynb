{
 "cells": [
  {
   "cell_type": "markdown",
   "metadata": {},
   "source": [
    "# Машинное обучение, ФКН ВШЭ\n",
    "\n",
    "# Семинар 1\n",
    "\n",
    "На этом семинаре:\n",
    "\n",
    "- Обсудим виды задач машинного обучения\n",
    "- Разберём несколько примеров задач\n",
    "- Поговорим про инструменты, которые используются аналитиками данных\n",
    "- Немного посмотрим на данные\n",
    "\n",
    "### 1. Напоминание материала лекции\n",
    "\n",
    "Вспомним основные виды задач машинного обучения, о которых говорилось на лекции, и обсудим несколько других.\n",
    "\n",
    "Традиционно задачи делятся на **обучение с/без учителя** - это определяется наличием в данных целевой переменной.\n",
    "\n",
    "#### Обучение с учителем\n",
    "\n",
    "- Задача регрессии — задача с вещественной целевой переменной, где основная цель предсказать значение близкое к фактическому в смысле некоторого функционала ошибки. Простой пример — предсказание цены дома по его параметрам.\n",
    "<img src=\"https://pythonprogramming.net/static/images/machine-learning/negative-correlation-linear-regression-example.png\">\n",
    "\n",
    "\n",
    "- Задача классификации (в том числе многоклассовая и многоклассовая с пересекающимися классами) — задача, где целевая переменная принимает значение из некоторого фиксированного конечного множества значений (или несколько в случае пересекающихся классов). Например, задача тегирования видеороликов — многоклассовая классификация с пересекающимися классами.\n",
    "<img src=\"https://catalystsecure.com/components/com_wordpress/wp/wp-content/uploads/2015/10/catsanddogs.png\">\n",
    "\n",
    "\n",
    "- Задача ранжирования — задача, в которой необходимо отсортировать объекты выборки по некоторому критерию (релеватности). При этом иногда нужно сортировать все объекты глобально, а иногда только внутри некоторых групп (например, в поиске необходимо сортировать ссылки для каждого запроса отдельно). Типичный пример — поисковая система.\n",
    "<img src=\"https://s15.postimg.cc/54sfh7e6j/2018-09-02_13.44.17.png\">\n",
    "\n",
    "#### Обучение без учителя\n",
    "\n",
    "- Задача кластеризации — задача, в которой выборка не имеет какой-то целевой переменной, а необходимо разделить объекты на группым по некоторым свойствам. На практике нередко сложно оценить качество при решении этой задачи. Пример — разделить пользователей сервиса на группы для дальнейшего исследования клиентов. \n",
    "<img src=\"http://predict.palinkas.com/images/blog-post1.png\">\n",
    "\n",
    "\n",
    "- Задача поиска выбросов — задача, похожая на бинарную классификацию с преобладанием объектов одного класса с тем отличием, что объекты \"редкого\" класса могут быть не похожими между собой, а лишь отличаться от объектов основного класса. Кроме этого, на практике объектов-выбросов в выборке может и не быть. Например, задача поиска фальшивых монет. Если быть строже, задачи этого класса можно разделить на детектирование выбросов и новизны.\n",
    "<img src=\"http://scikit-learn.org/stable/_images/sphx_glr_plot_outlier_detection_001.png\">\n",
    "\n",
    "\n",
    "- Задача обучения с подкреплением — задача, в которой обучающая система учится воздействовать со средой, не имея сведений о ней. Например, двуногий робот учится управлять своими шарнирами, двигаясь по ровной поверхности. Такие задачи достаточно специфичны и не будут рассматриваться в этом курсе.\n",
    "<img src=\"https://1.bp.blogspot.com/-14XA1O7mDk0/WBtPivhDa2I/AAAAAAAAAT0/M_2SLTkqGfYun25IDQlw5GGD_WETVC6oQCEw/s1600/as2.jpg\">\n",
    "\n",
    "\n",
    "Иногда выделяют и другие более редкие виды задач. Некоторые из них могут пересекаться с описанными выше. Например, задача построения рекомендаций может решаться как задача бинарной классификации или как задача ранжирования. \n",
    "\n",
    "### 3. Примеры задач машинного обучению\n",
    "\n",
    "Разберём несколько задач, которые решаются с помощью машинного обучению. От простых и очевидных до задач с большей вариативностью.\n",
    "\n",
    "##### - Кредитный скоринг\n",
    "  \n",
    "    Задача: выяснить, какие заявки на кредит можно одобрить\n",
    "  \n",
    "    - Что является целевой переменной и какие значений она может принимать?\n",
    "    - Какую задачу машинного обучения будем решать?\n",
    "    - Предположим, что заявки поступают от текущих клиентов нашего банка. Какие полезные признаки мы могли бы построить? А если это люди, приходящие к нам со стороны со всякими справками о доходах? А если мы поисковый сервис (или можем использовать их информацию), то что полезного можно извлечь?\n",
    "   \n",
    "##### - Лента Facebook/Дзен по интересности (вместо сортировки по времени)\n",
    "     \n",
    "     Задача: показать посты, наиболее интересные для конкретного человека.\n",
    "     \n",
    "    - Какую задачу машинного обучения будем решать? Можно ли допустить другую трактовку? \n",
    "    - Что будет объектом в задаче?\n",
    "    - Что будет целевой переменной? Как построим обучающую выборку? \n",
    "     \n",
    "##### - Детектирование некорректной работы завода\n",
    "\n",
    "    Предположим, что у нас есть завод, на котором происходят некоторые процессы (стоят какие-то котлы, станки, печи и прочее). Всё управляется с некоторого пульта и ко всему есть доступ. На предприятии может произойти поломка, например, сломается датчик уровня жидкости в баке, из-за чего насос не остановится при достижении нужного уровня и нефть начнёт разливаться по полу, что может привести к неизвестным последствиям. Или же хакеры могут удалённо получить доступ к пульту управления системами и что-нибудь натворить. Мы хотим, чтобы завод работал исправно, а обо всех проблемах узнавать как можно раньше.\n",
    "\n",
    "    - Какую задачу машинного обучения будем решать? Какую обучающую выборку можем и какую не можем собрать? \n",
    "\n",
    "##### - Вопросно-ответная система (как Siri)\n",
    "    \n",
    "    Задача: ответить голосом на вопрос, заданный голосом.\n",
    "     \n",
    "     - Какие задачи машинного обучения возникают внутри одной большой? \n",
    "\n",
    "<img src=\"https://s15.postimg.cc/8oed6yjgb/Alice-_-i_OS.jpg\">\n",
    "\n",
    "\n",
    "##### - Self-driving cars\n",
    "     \n",
    "    Задача: обеспечить полную самоуправляемость автомобиля (доехать до точки B).\n",
    "     \n",
    "     - Какие подзадачи приодится решать? \n",
    "     - Какие проблемы возникают при решении задач, связанных с реальными объектами?\n",
    "     - Как можно сформировать выборку? Какие данные необходимы?\n",
    "\n",
    "<img src=\"https://pbs.twimg.com/media/De2K_veW0AEymgs.jpg\">\n",
    "\n",
    "\n",
    "##### - Перенос стиля изображения\n",
    "   \n",
    "     Задача: перенести стиль одного изображения на другое (смешать стиль одного с контекстом другого).\n",
    "<img src=\"https://camo.githubusercontent.com/69cbc0371777fba5d251a564e2f8a8f38d1bf43f/68747470733a2f2f6a756e79616e7a2e6769746875622e696f2f4379636c6547414e2f696d616765732f7465617365725f686967685f7265732e6a7067\">"
   ]
  },
  {
   "cell_type": "markdown",
   "metadata": {},
   "source": [
    "### 4. Инструменты\n",
    "   \n",
    "У всех датасайентистов свои привычки и вкусы. Часто требования к используемым инструментам выставляются на работе, особенно если она происходит в команде с другими аналитиками и разработчиками. Часто (по опросам на 2018 год чаще всего) аналитики данных используют язык программирования Python (его мы и будем использовать в этом курсе) по нескольким причинам:\n",
    "   \n",
    "- Популярность языка в целом (в первой тройке по различным критериям на Github и в десятке самых популярных по различным точкам зрения других рейтингов) — много разработчиков, много различных инструментов.\n",
    "- Простота изучения — многие аналитики данных не являются программистами как таковыми, а при обучении стремятся как можно быстрее изучить необходимый им инструмент. \n",
    "- Простота использования. Python — интерпретируемый язык (не требует компиляции кода) с динамической типизацией и многими прочими особенностями, позволяющими как можно меньше думать о программировании и больше концентрироваться на решении конкретной задачи.\n",
    "   \n",
    "Нельзя сказать, что можно обойтись на практике одним лишь языком Python. Большинство реальных систем предъявляет требования к скорости работы, а Python в этом часто уступает классическим компилируемым языкам вроде C++ или Java, поэтому часто на практике решения, подготовленные на Python переписываются или с минимальными потерями встраиваются в другие языки.\n",
    "\n",
    "Кроме Python, аналитики данных часто используют язык R, который так же достаточно прост и удобен, однако почти не используется в кругах разработчиков. Реже и в некоторых специфичных задачах применяются Matlab и SAS.\n",
    "\n",
    "Но одним лишь языком программирования не обойтись — используются различные инструменты и библиотеки (мы рассматриваем лишь Python):\n",
    "   \n",
    "- Среды разработки. Можно использовать как классические IDE, например, PyCharm или Spyder, так и предпочитаемый аналитиками Jupyter Notebook. Он позволяет как писать код и запускать его отдельными фрагментами, так и оформлять всё в виде отчёта с markdown разметкой и формулами LaTex.\n",
    "- Библиотеки для обработки данных такие, как NumPy и Pandas.\n",
    "- Библиотеки для визуализации данных такие, как Matplotlib и ggplot.\n",
    "- Библиотеки с алгоритмами машинного обучения такие, как scikit-learn, XGBoost и pytorch.\n",
    "\n",
    "С некоторыми из них вам предстоит ознакомиться в домашней работе."
   ]
  },
  {
   "cell_type": "markdown",
   "metadata": {},
   "source": [
    "### 5. Пример первичной работы с данными\n",
    "\n",
    "Теперь давайте немного попрактикуемся. Во-первых, мы сейчас пользуемся Jupyter Notebook. Визуально это множество ячеек, каждая из которых принадлежит некоторому типу. Мы можем писать и запускать код, облагораживать его комментариями с markdown-разметкой (как было выше), вставлять формулы LaTex. Результат можно оставить в родном формате, который отображается на Github, а можно сконвертировать в другие форматы. \n",
    "Для работы с данными существует значительное количество специализированных библиотек, о которых говорилось выше. Сравним первоначальный обзор данных на 'чистом' python и с помощью библиотеки pandas."
   ]
  },
  {
   "cell_type": "markdown",
   "metadata": {},
   "source": [
    "Загрузим набор [данных](https://dl.dropboxusercontent.com/s/779oy1k9z8xjenp/fifa_data.json) о матчах Чемпионата Мира по футболу 2018"
   ]
  },
  {
   "cell_type": "code",
   "execution_count": 2,
   "metadata": {},
   "outputs": [],
   "source": [
    "! wget  -O 'fifa_data.json' -q 'https://dl.dropboxusercontent.com/s/779oy1k9z8xjenp/fifa_data.json'"
   ]
  },
  {
   "cell_type": "code",
   "execution_count": 4,
   "metadata": {},
   "outputs": [],
   "source": [
    "import simplejson\n",
    "\n",
    "with open('fifa_data.json') as f:\n",
    "    data = simplejson.load(f)"
   ]
  },
  {
   "cell_type": "code",
   "execution_count": 5,
   "metadata": {},
   "outputs": [
    {
     "data": {
      "text/plain": [
       "dict_keys(['status', 'location', 'attendance', 'away_team_statistics', 'time', 'home_team_statistics', 'weather', 'fifa_id', 'winner_code', 'datetime', 'away_team_events', 'winner', 'home_team_country', 'officials', 'venue', 'home_team_events', 'away_team', 'last_event_update_at', 'stage_name', 'home_team', 'away_team_country', 'last_score_update_at'])"
      ]
     },
     "execution_count": 5,
     "metadata": {},
     "output_type": "execute_result"
    }
   ],
   "source": [
    "data['matches'][0].keys()"
   ]
  },
  {
   "cell_type": "markdown",
   "metadata": {},
   "source": [
    "Импортируем библиотеку pandas, загрузим данные в таблицу"
   ]
  },
  {
   "cell_type": "code",
   "execution_count": 7,
   "metadata": {},
   "outputs": [],
   "source": [
    "import pandas as pd"
   ]
  },
  {
   "cell_type": "code",
   "execution_count": 8,
   "metadata": {},
   "outputs": [
    {
     "data": {
      "text/html": [
       "<div>\n",
       "<style scoped>\n",
       "    .dataframe tbody tr th:only-of-type {\n",
       "        vertical-align: middle;\n",
       "    }\n",
       "\n",
       "    .dataframe tbody tr th {\n",
       "        vertical-align: top;\n",
       "    }\n",
       "\n",
       "    .dataframe thead th {\n",
       "        text-align: right;\n",
       "    }\n",
       "</style>\n",
       "<table border=\"1\" class=\"dataframe\">\n",
       "  <thead>\n",
       "    <tr style=\"text-align: right;\">\n",
       "      <th></th>\n",
       "      <th>attendance</th>\n",
       "      <th>away_team</th>\n",
       "      <th>away_team_country</th>\n",
       "      <th>away_team_events</th>\n",
       "      <th>away_team_statistics</th>\n",
       "      <th>datetime</th>\n",
       "      <th>fifa_id</th>\n",
       "      <th>home_team</th>\n",
       "      <th>home_team_country</th>\n",
       "      <th>home_team_events</th>\n",
       "      <th>...</th>\n",
       "      <th>last_score_update_at</th>\n",
       "      <th>location</th>\n",
       "      <th>officials</th>\n",
       "      <th>stage_name</th>\n",
       "      <th>status</th>\n",
       "      <th>time</th>\n",
       "      <th>venue</th>\n",
       "      <th>weather</th>\n",
       "      <th>winner</th>\n",
       "      <th>winner_code</th>\n",
       "    </tr>\n",
       "  </thead>\n",
       "  <tbody>\n",
       "    <tr>\n",
       "      <th>0</th>\n",
       "      <td>78011</td>\n",
       "      <td>{'penalties': 0, 'goals': 0, 'code': 'KSA', 'c...</td>\n",
       "      <td>Saudi Arabia</td>\n",
       "      <td>[{'player': 'FAHAD ALMUWALLAD', 'id': 12, 'typ...</td>\n",
       "      <td>{'corners': 2, 'substitutes': [{'shirt_number'...</td>\n",
       "      <td>2018-06-14T15:00:00Z</td>\n",
       "      <td>300331503</td>\n",
       "      <td>{'penalties': 0, 'goals': 5, 'code': 'RUS', 'c...</td>\n",
       "      <td>Russia</td>\n",
       "      <td>[{'player': 'Iury GAZINSKY', 'id': 5, 'type_of...</td>\n",
       "      <td>...</td>\n",
       "      <td>None</td>\n",
       "      <td>Luzhniki Stadium</td>\n",
       "      <td>[Nestor PITANA, Hernan MAIDANA, Juan Pablo BEL...</td>\n",
       "      <td>First stage</td>\n",
       "      <td>completed</td>\n",
       "      <td>full-time</td>\n",
       "      <td>Moscow</td>\n",
       "      <td>{'temp_celsius': '17', 'description': 'Partly ...</td>\n",
       "      <td>Russia</td>\n",
       "      <td>RUS</td>\n",
       "    </tr>\n",
       "    <tr>\n",
       "      <th>1</th>\n",
       "      <td>27015</td>\n",
       "      <td>{'penalties': 0, 'goals': 1, 'code': 'URU', 'c...</td>\n",
       "      <td>Uruguay</td>\n",
       "      <td>[{'player': 'Carlos SANCHEZ', 'id': 15, 'type_...</td>\n",
       "      <td>{'corners': 5, 'substitutes': [{'shirt_number'...</td>\n",
       "      <td>2018-06-15T12:00:00Z</td>\n",
       "      <td>300353632</td>\n",
       "      <td>{'penalties': 0, 'goals': 0, 'code': 'EGY', 'c...</td>\n",
       "      <td>Egypt</td>\n",
       "      <td>[{'player': 'SAM MORSY', 'id': 14, 'type_of_ev...</td>\n",
       "      <td>...</td>\n",
       "      <td>None</td>\n",
       "      <td>Ekaterinburg Arena</td>\n",
       "      <td>[Bjorn KUIPERS, Sander VAN ROEKEL, Erwin ZEINS...</td>\n",
       "      <td>First stage</td>\n",
       "      <td>completed</td>\n",
       "      <td>full-time</td>\n",
       "      <td>Ekaterinburg</td>\n",
       "      <td>{'temp_celsius': '14', 'description': 'Partly ...</td>\n",
       "      <td>Uruguay</td>\n",
       "      <td>URU</td>\n",
       "    </tr>\n",
       "    <tr>\n",
       "      <th>2</th>\n",
       "      <td>62548</td>\n",
       "      <td>{'penalties': 0, 'goals': 1, 'code': 'IRN', 'c...</td>\n",
       "      <td>Iran</td>\n",
       "      <td>[{'player': 'Masoud SHOJAEI', 'id': 22, 'type_...</td>\n",
       "      <td>{'corners': 2, 'substitutes': [{'shirt_number'...</td>\n",
       "      <td>2018-06-15T15:00:00Z</td>\n",
       "      <td>300331526</td>\n",
       "      <td>{'penalties': 0, 'goals': 0, 'code': 'MAR', 'c...</td>\n",
       "      <td>Morocco</td>\n",
       "      <td>[{'player': 'Karim EL AHMADI', 'id': 23, 'type...</td>\n",
       "      <td>...</td>\n",
       "      <td>None</td>\n",
       "      <td>Saint Petersburg Stadium</td>\n",
       "      <td>[Cuneyt CAKIR, Bahattin DURAN, Tarik ONGUN, Se...</td>\n",
       "      <td>First stage</td>\n",
       "      <td>completed</td>\n",
       "      <td>full-time</td>\n",
       "      <td>St. Petersburg</td>\n",
       "      <td>{'temp_celsius': '25', 'description': 'Partly ...</td>\n",
       "      <td>Iran</td>\n",
       "      <td>IRN</td>\n",
       "    </tr>\n",
       "    <tr>\n",
       "      <th>3</th>\n",
       "      <td>43866</td>\n",
       "      <td>{'penalties': 0, 'goals': 3, 'code': 'ESP', 'c...</td>\n",
       "      <td>Spain</td>\n",
       "      <td>[{'player': 'Sergio BUSQUETS', 'id': 37, 'type...</td>\n",
       "      <td>{'corners': 5, 'substitutes': [{'shirt_number'...</td>\n",
       "      <td>2018-06-15T18:00:00Z</td>\n",
       "      <td>300331524</td>\n",
       "      <td>{'penalties': 0, 'goals': 3, 'code': 'POR', 'c...</td>\n",
       "      <td>Portugal</td>\n",
       "      <td>[{'player': 'CRISTIANO RONALDO', 'id': 36, 'ty...</td>\n",
       "      <td>...</td>\n",
       "      <td>2018-06-15T19:52:38Z</td>\n",
       "      <td>Fisht Stadium</td>\n",
       "      <td>[Gianluca ROCCHI, Elenito DI LIBERATORE, Mauro...</td>\n",
       "      <td>First stage</td>\n",
       "      <td>completed</td>\n",
       "      <td>full-time</td>\n",
       "      <td>Sochi</td>\n",
       "      <td>{'temp_celsius': '24', 'description': 'Partly ...</td>\n",
       "      <td>Draw</td>\n",
       "      <td>Draw</td>\n",
       "    </tr>\n",
       "    <tr>\n",
       "      <th>4</th>\n",
       "      <td>41279</td>\n",
       "      <td>{'penalties': 0, 'goals': 1, 'code': 'AUS', 'c...</td>\n",
       "      <td>Australia</td>\n",
       "      <td>[{'player': 'Mathew LECKIE', 'id': 50, 'type_o...</td>\n",
       "      <td>{'corners': 1, 'substitutes': [{'shirt_number'...</td>\n",
       "      <td>2018-06-16T10:00:00Z</td>\n",
       "      <td>300331533</td>\n",
       "      <td>{'penalties': 0, 'goals': 2, 'code': 'FRA', 'c...</td>\n",
       "      <td>France</td>\n",
       "      <td>[{'player': 'Antoine GRIEZMANN', 'id': 52, 'ty...</td>\n",
       "      <td>...</td>\n",
       "      <td>2018-06-16T11:52:21Z</td>\n",
       "      <td>Kazan Arena</td>\n",
       "      <td>[Andres CUNHA, Nicolas TARAN, Mauricio ESPINOS...</td>\n",
       "      <td>First stage</td>\n",
       "      <td>completed</td>\n",
       "      <td>full-time</td>\n",
       "      <td>Kazan</td>\n",
       "      <td>{'temp_celsius': '19', 'description': 'Sunny',...</td>\n",
       "      <td>France</td>\n",
       "      <td>FRA</td>\n",
       "    </tr>\n",
       "  </tbody>\n",
       "</table>\n",
       "<p>5 rows × 22 columns</p>\n",
       "</div>"
      ],
      "text/plain": [
       "  attendance                                          away_team  \\\n",
       "0      78011  {'penalties': 0, 'goals': 0, 'code': 'KSA', 'c...   \n",
       "1      27015  {'penalties': 0, 'goals': 1, 'code': 'URU', 'c...   \n",
       "2      62548  {'penalties': 0, 'goals': 1, 'code': 'IRN', 'c...   \n",
       "3      43866  {'penalties': 0, 'goals': 3, 'code': 'ESP', 'c...   \n",
       "4      41279  {'penalties': 0, 'goals': 1, 'code': 'AUS', 'c...   \n",
       "\n",
       "  away_team_country                                   away_team_events  \\\n",
       "0      Saudi Arabia  [{'player': 'FAHAD ALMUWALLAD', 'id': 12, 'typ...   \n",
       "1           Uruguay  [{'player': 'Carlos SANCHEZ', 'id': 15, 'type_...   \n",
       "2              Iran  [{'player': 'Masoud SHOJAEI', 'id': 22, 'type_...   \n",
       "3             Spain  [{'player': 'Sergio BUSQUETS', 'id': 37, 'type...   \n",
       "4         Australia  [{'player': 'Mathew LECKIE', 'id': 50, 'type_o...   \n",
       "\n",
       "                                away_team_statistics              datetime  \\\n",
       "0  {'corners': 2, 'substitutes': [{'shirt_number'...  2018-06-14T15:00:00Z   \n",
       "1  {'corners': 5, 'substitutes': [{'shirt_number'...  2018-06-15T12:00:00Z   \n",
       "2  {'corners': 2, 'substitutes': [{'shirt_number'...  2018-06-15T15:00:00Z   \n",
       "3  {'corners': 5, 'substitutes': [{'shirt_number'...  2018-06-15T18:00:00Z   \n",
       "4  {'corners': 1, 'substitutes': [{'shirt_number'...  2018-06-16T10:00:00Z   \n",
       "\n",
       "     fifa_id                                          home_team  \\\n",
       "0  300331503  {'penalties': 0, 'goals': 5, 'code': 'RUS', 'c...   \n",
       "1  300353632  {'penalties': 0, 'goals': 0, 'code': 'EGY', 'c...   \n",
       "2  300331526  {'penalties': 0, 'goals': 0, 'code': 'MAR', 'c...   \n",
       "3  300331524  {'penalties': 0, 'goals': 3, 'code': 'POR', 'c...   \n",
       "4  300331533  {'penalties': 0, 'goals': 2, 'code': 'FRA', 'c...   \n",
       "\n",
       "  home_team_country                                   home_team_events  \\\n",
       "0            Russia  [{'player': 'Iury GAZINSKY', 'id': 5, 'type_of...   \n",
       "1             Egypt  [{'player': 'SAM MORSY', 'id': 14, 'type_of_ev...   \n",
       "2           Morocco  [{'player': 'Karim EL AHMADI', 'id': 23, 'type...   \n",
       "3          Portugal  [{'player': 'CRISTIANO RONALDO', 'id': 36, 'ty...   \n",
       "4            France  [{'player': 'Antoine GRIEZMANN', 'id': 52, 'ty...   \n",
       "\n",
       "      ...      last_score_update_at                  location  \\\n",
       "0     ...                      None          Luzhniki Stadium   \n",
       "1     ...                      None        Ekaterinburg Arena   \n",
       "2     ...                      None  Saint Petersburg Stadium   \n",
       "3     ...      2018-06-15T19:52:38Z             Fisht Stadium   \n",
       "4     ...      2018-06-16T11:52:21Z               Kazan Arena   \n",
       "\n",
       "                                           officials   stage_name     status  \\\n",
       "0  [Nestor PITANA, Hernan MAIDANA, Juan Pablo BEL...  First stage  completed   \n",
       "1  [Bjorn KUIPERS, Sander VAN ROEKEL, Erwin ZEINS...  First stage  completed   \n",
       "2  [Cuneyt CAKIR, Bahattin DURAN, Tarik ONGUN, Se...  First stage  completed   \n",
       "3  [Gianluca ROCCHI, Elenito DI LIBERATORE, Mauro...  First stage  completed   \n",
       "4  [Andres CUNHA, Nicolas TARAN, Mauricio ESPINOS...  First stage  completed   \n",
       "\n",
       "        time           venue  \\\n",
       "0  full-time          Moscow   \n",
       "1  full-time    Ekaterinburg   \n",
       "2  full-time  St. Petersburg   \n",
       "3  full-time           Sochi   \n",
       "4  full-time           Kazan   \n",
       "\n",
       "                                             weather   winner winner_code  \n",
       "0  {'temp_celsius': '17', 'description': 'Partly ...   Russia         RUS  \n",
       "1  {'temp_celsius': '14', 'description': 'Partly ...  Uruguay         URU  \n",
       "2  {'temp_celsius': '25', 'description': 'Partly ...     Iran         IRN  \n",
       "3  {'temp_celsius': '24', 'description': 'Partly ...     Draw        Draw  \n",
       "4  {'temp_celsius': '19', 'description': 'Sunny',...   France         FRA  \n",
       "\n",
       "[5 rows x 22 columns]"
      ]
     },
     "execution_count": 8,
     "metadata": {},
     "output_type": "execute_result"
    }
   ],
   "source": [
    "data_pandas = pd.DataFrame.from_dict(data['matches'])\n",
    "data_pandas.head()"
   ]
  },
  {
   "cell_type": "markdown",
   "metadata": {},
   "source": [
    "#### Сколько всего зрителей посетило матчи?"
   ]
  },
  {
   "cell_type": "code",
   "execution_count": 9,
   "metadata": {},
   "outputs": [
    {
     "name": "stdout",
     "output_type": "stream",
     "text": [
      "3031768\n"
     ]
    }
   ],
   "source": [
    "num_visitors = 0\n",
    "for match in data['matches']:\n",
    "    num_visitors += int(match['attendance'])\n",
    "print(num_visitors)"
   ]
  },
  {
   "cell_type": "code",
   "execution_count": 10,
   "metadata": {},
   "outputs": [
    {
     "data": {
      "text/plain": [
       "3031768"
      ]
     },
     "execution_count": 10,
     "metadata": {},
     "output_type": "execute_result"
    }
   ],
   "source": [
    "data_pandas['attendance'].astype(int).sum()"
   ]
  },
  {
   "cell_type": "markdown",
   "metadata": {},
   "source": [
    "#### Какая была самая популярная расстановка на поле у гостевых команд?"
   ]
  },
  {
   "cell_type": "code",
   "execution_count": 11,
   "metadata": {},
   "outputs": [
    {
     "data": {
      "text/plain": [
       "{'3-4-3': 4,\n",
       " '3-5-2': 6,\n",
       " '4-2-3-1': 29,\n",
       " '4-3-3': 9,\n",
       " '4-4-2': 8,\n",
       " '4-5-1': 5,\n",
       " '5-3-2': 1,\n",
       " '5-4-1': 2}"
      ]
     },
     "execution_count": 11,
     "metadata": {},
     "output_type": "execute_result"
    }
   ],
   "source": [
    "tactics = dict()\n",
    "for match in data['matches']:\n",
    "    team_tactic = match['away_team_statistics']['tactics']\n",
    "    if team_tactic not in tactics:\n",
    "        tactics[team_tactic] = 1\n",
    "    else:\n",
    "        tactics[team_tactic] += 1\n",
    "tactics"
   ]
  },
  {
   "cell_type": "code",
   "execution_count": 12,
   "metadata": {},
   "outputs": [
    {
     "data": {
      "text/plain": [
       "4-2-3-1    29\n",
       "4-3-3       9\n",
       "4-4-2       8\n",
       "3-5-2       6\n",
       "4-5-1       5\n",
       "3-4-3       4\n",
       "5-4-1       2\n",
       "5-3-2       1\n",
       "Name: away_team_statistics, dtype: int64"
      ]
     },
     "execution_count": 12,
     "metadata": {},
     "output_type": "execute_result"
    }
   ],
   "source": [
    "data_pandas['away_team_statistics'].apply(lambda x: x['tactics']).value_counts()"
   ]
  },
  {
   "cell_type": "markdown",
   "metadata": {},
   "source": [
    "#### В каком матче было больше всего событий? А меньше всего?"
   ]
  },
  {
   "cell_type": "code",
   "execution_count": 13,
   "metadata": {
    "scrolled": true
   },
   "outputs": [
    {
     "data": {
      "text/plain": [
       "[('England_Belgium', 11),\n",
       " ('Japan_Poland', 12),\n",
       " ('Uruguay_Saudi Arabia', 13),\n",
       " ('Denmark_France', 13),\n",
       " ('Denmark_Australia', 14),\n",
       " ('Belgium_Japan', 14),\n",
       " ('Argentina_Iceland', 14),\n",
       " ('Egypt_Uruguay', 15),\n",
       " ('Saudi Arabia_Egypt', 15),\n",
       " ('Sweden_Switzerland', 15),\n",
       " ('Senegal_Colombia', 15),\n",
       " ('Iran_Spain', 15),\n",
       " ('Nigeria_Iceland', 15),\n",
       " ('Uruguay_Portugal', 16),\n",
       " ('France_Belgium', 16),\n",
       " ('Sweden_Korea Republic', 16),\n",
       " ('Tunisia_England', 16),\n",
       " ('Peru_Denmark', 16),\n",
       " ('Germany_Mexico', 17),\n",
       " ('Serbia_Brazil', 17),\n",
       " ('Costa Rica_Serbia', 17),\n",
       " ('Poland_Colombia', 17),\n",
       " ('Brazil_Costa Rica', 17),\n",
       " ('Portugal_Morocco', 17),\n",
       " ('Brazil_Belgium', 18),\n",
       " ('Sweden_England', 18),\n",
       " ('Serbia_Switzerland', 18),\n",
       " ('France_Peru', 18),\n",
       " ('Korea Republic_Germany', 18),\n",
       " ('Belgium_England', 18),\n",
       " ('Brazil_Switzerland', 18),\n",
       " ('Colombia_Japan', 19),\n",
       " ('Poland_Senegal', 19),\n",
       " ('Germany_Sweden', 19),\n",
       " ('Uruguay_France', 19),\n",
       " ('Croatia_Nigeria', 19),\n",
       " ('Iran_Portugal', 19),\n",
       " ('Russia_Egypt', 20),\n",
       " ('France_Australia', 20),\n",
       " ('Korea Republic_Mexico', 20),\n",
       " ('Russia_Saudi Arabia', 20),\n",
       " ('Australia_Peru', 20),\n",
       " ('Belgium_Tunisia', 20),\n",
       " ('Mexico_Sweden', 20),\n",
       " ('Uruguay_Russia', 20),\n",
       " ('Portugal_Spain', 20),\n",
       " ('Brazil_Mexico', 20),\n",
       " ('Morocco_Iran', 20),\n",
       " ('Japan_Senegal', 21),\n",
       " ('Spain_Russia', 22),\n",
       " ('Iceland_Croatia', 22),\n",
       " ('Panama_Tunisia', 22),\n",
       " ('Croatia_Denmark', 22),\n",
       " ('Nigeria_Argentina', 22),\n",
       " ('France_Croatia', 22),\n",
       " ('Croatia_England', 23),\n",
       " ('Belgium_Panama', 23),\n",
       " ('Switzerland_Costa Rica', 23),\n",
       " ('Argentina_Croatia', 24),\n",
       " ('England_Panama', 24),\n",
       " ('Spain_Morocco', 25),\n",
       " ('Russia_Croatia', 27),\n",
       " ('Colombia_England', 27),\n",
       " ('France_Argentina', 27)]"
      ]
     },
     "execution_count": 13,
     "metadata": {},
     "output_type": "execute_result"
    }
   ],
   "source": [
    "events = dict()\n",
    "for match in data['matches']:\n",
    "    name_of_match = match['home_team_country'] + '_' + match['away_team_country']\n",
    "    events[name_of_match] = len(match['home_team_events']) + len(match['away_team_events'])\n",
    "sorted(events.items(), key=lambda x: x[1])"
   ]
  },
  {
   "cell_type": "code",
   "execution_count": 14,
   "metadata": {
    "scrolled": true
   },
   "outputs": [
    {
     "data": {
      "text/plain": [
       "Russia_Croatia            27\n",
       "Colombia_England          27\n",
       "France_Argentina          27\n",
       "Spain_Morocco             25\n",
       "England_Panama            24\n",
       "Argentina_Croatia         24\n",
       "Croatia_England           23\n",
       "Switzerland_Costa Rica    23\n",
       "Belgium_Panama            23\n",
       "France_Croatia            22\n",
       "Spain_Russia              22\n",
       "Panama_Tunisia            22\n",
       "Croatia_Denmark           22\n",
       "Nigeria_Argentina         22\n",
       "Iceland_Croatia           22\n",
       "Japan_Senegal             21\n",
       "Korea Republic_Mexico     20\n",
       "Belgium_Tunisia           20\n",
       "Russia_Egypt              20\n",
       "France_Australia          20\n",
       "Uruguay_Russia            20\n",
       "Portugal_Spain            20\n",
       "Morocco_Iran              20\n",
       "Australia_Peru            20\n",
       "Russia_Saudi Arabia       20\n",
       "Brazil_Mexico             20\n",
       "Mexico_Sweden             20\n",
       "Germany_Sweden            19\n",
       "Poland_Senegal            19\n",
       "Iran_Portugal             19\n",
       "                          ..\n",
       "Serbia_Switzerland        18\n",
       "Brazil_Switzerland        18\n",
       "Belgium_England           18\n",
       "Brazil_Belgium            18\n",
       "Sweden_England            18\n",
       "France_Peru               18\n",
       "Germany_Mexico            17\n",
       "Costa Rica_Serbia         17\n",
       "Portugal_Morocco          17\n",
       "Poland_Colombia           17\n",
       "Brazil_Costa Rica         17\n",
       "Serbia_Brazil             17\n",
       "France_Belgium            16\n",
       "Tunisia_England           16\n",
       "Uruguay_Portugal          16\n",
       "Sweden_Korea Republic     16\n",
       "Peru_Denmark              16\n",
       "Senegal_Colombia          15\n",
       "Saudi Arabia_Egypt        15\n",
       "Egypt_Uruguay             15\n",
       "Iran_Spain                15\n",
       "Nigeria_Iceland           15\n",
       "Sweden_Switzerland        15\n",
       "Argentina_Iceland         14\n",
       "Belgium_Japan             14\n",
       "Denmark_Australia         14\n",
       "Uruguay_Saudi Arabia      13\n",
       "Denmark_France            13\n",
       "Japan_Poland              12\n",
       "England_Belgium           11\n",
       "Length: 64, dtype: int64"
      ]
     },
     "execution_count": 14,
     "metadata": {},
     "output_type": "execute_result"
    }
   ],
   "source": [
    "data_pandas.index = data_pandas['home_team_country'] + '_' + data_pandas['away_team_country']\n",
    "(data_pandas['away_team_events'] + data_pandas['home_team_events']).apply(len).sort_values(ascending=False)"
   ]
  },
  {
   "cell_type": "markdown",
   "metadata": {},
   "source": [
    "#### В каком городе во время чемпионата была самая высокая средняя температура?"
   ]
  },
  {
   "cell_type": "code",
   "execution_count": 15,
   "metadata": {},
   "outputs": [
    {
     "data": {
      "text/plain": [
       "{'Ekaterinburg': 19.5,\n",
       " 'Kaliningrad': 17.75,\n",
       " 'Kazan': 23.166666666666668,\n",
       " 'Moscow': 22.916666666666668,\n",
       " 'Nizhny Novgorod': 23.166666666666668,\n",
       " 'Rostov-On-Don': 29.0,\n",
       " 'Samara': 27.333333333333332,\n",
       " 'Saransk': 22.0,\n",
       " 'Sochi': 25.166666666666668,\n",
       " 'St. Petersburg': 20.428571428571427,\n",
       " 'Volgograd': 31.75}"
      ]
     },
     "execution_count": 15,
     "metadata": {},
     "output_type": "execute_result"
    }
   ],
   "source": [
    "temperature = dict()\n",
    "for match in data['matches']:\n",
    "    location = match['venue']\n",
    "    t = int(match['weather']['temp_celsius'])\n",
    "    if location not in temperature:\n",
    "        temperature[location] = [t]\n",
    "    else:\n",
    "        temperature[location] += [t]\n",
    "{location:(sum(t)/len(t)) for location, t in temperature.items()}"
   ]
  },
  {
   "cell_type": "code",
   "execution_count": 16,
   "metadata": {},
   "outputs": [
    {
     "data": {
      "text/plain": [
       "venue\n",
       "Ekaterinburg       19.500000\n",
       "Kaliningrad        17.750000\n",
       "Kazan              23.166667\n",
       "Moscow             22.916667\n",
       "Nizhny Novgorod    23.166667\n",
       "Rostov-On-Don      29.000000\n",
       "Samara             27.333333\n",
       "Saransk            22.000000\n",
       "Sochi              25.166667\n",
       "St. Petersburg     20.428571\n",
       "Volgograd          31.750000\n",
       "Name: temperature, dtype: float64"
      ]
     },
     "execution_count": 16,
     "metadata": {},
     "output_type": "execute_result"
    }
   ],
   "source": [
    "data_pandas['temperature'] = data_pandas['weather'].apply(lambda x: int(x['temp_celsius']))\n",
    "data_pandas.groupby('venue')['temperature'].mean()"
   ]
  },
  {
   "cell_type": "markdown",
   "metadata": {},
   "source": [
    "#### Нетрудно заметить, что pandas позволяет проводить те же преобразования, выигрывая по удобству использования"
   ]
  }
 ],
 "metadata": {
  "kernelspec": {
   "display_name": "Python 3",
   "language": "python",
   "name": "python3"
  },
  "language_info": {
   "codemirror_mode": {
    "name": "ipython",
    "version": 3
   },
   "file_extension": ".py",
   "mimetype": "text/x-python",
   "name": "python",
   "nbconvert_exporter": "python",
   "pygments_lexer": "ipython3",
   "version": "3.5.2"
  }
 },
 "nbformat": 4,
 "nbformat_minor": 2
}
